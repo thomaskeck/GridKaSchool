{
 "cells": [
  {
   "cell_type": "markdown",
   "metadata": {
    "deletable": true,
    "editable": true,
    "slideshow": {
     "slide_type": "slide"
    }
   },
   "source": [
    "<div style=\"position:relative;\">\n",
    "<img src=images/numpylogo_med.png style=\"width: 60px; float: left\" />\n",
    "</div>\n",
    "<div style=\"position:relative;\">\n",
    "<img src=images/numpylogo_med.png style=\"width: 60px; float: right\" />\n",
    "</div>\n",
    "\n",
    "# &nbsp;&nbsp;&nbsp;&nbsp;&nbsp;&nbsp;&nbsp;&nbsp;&nbsp;&nbsp;&nbsp;&nbsp; NumPy\n"
   ]
  },
  {
   "cell_type": "markdown",
   "metadata": {
    "deletable": true,
    "editable": true
   },
   "source": [
    "By convention the numpy package is usually imported as **np**"
   ]
  },
  {
   "cell_type": "code",
   "execution_count": 1,
   "metadata": {
    "collapsed": true,
    "deletable": true,
    "editable": true
   },
   "outputs": [],
   "source": [
    "import numpy as np"
   ]
  },
  {
   "cell_type": "markdown",
   "metadata": {
    "deletable": true,
    "editable": true,
    "slideshow": {
     "slide_type": "subslide"
    }
   },
   "source": [
    "## The basic building block: ndarray\n",
    "\n",
    "The basic building block is the **ndarray** class provided by the NumPy package."
   ]
  },
  {
   "cell_type": "code",
   "execution_count": 2,
   "metadata": {
    "collapsed": false,
    "deletable": true,
    "editable": true
   },
   "outputs": [
    {
     "data": {
      "text/plain": [
       "array([1, 2, 3, 4, 5, 6, 7, 8, 9])"
      ]
     },
     "execution_count": 2,
     "metadata": {},
     "output_type": "execute_result"
    }
   ],
   "source": [
    "np.array([1, 2, 3, 4, 5, 6, 7, 8, 9])"
   ]
  },
  {
   "cell_type": "markdown",
   "metadata": {
    "deletable": true,
    "editable": true,
    "slideshow": {
     "slide_type": "subslide"
    }
   },
   "source": [
    "### The dtype\n",
    "\n",
    "An **ndarray** is an n-dimensional array of values of a specific **data type**"
   ]
  },
  {
   "cell_type": "code",
   "execution_count": 3,
   "metadata": {
    "collapsed": false,
    "deletable": true,
    "editable": true
   },
   "outputs": [
    {
     "data": {
      "text/plain": [
       "array([1, 2, 3, 4])"
      ]
     },
     "execution_count": 3,
     "metadata": {},
     "output_type": "execute_result"
    }
   ],
   "source": [
    "np.array([1, 2, 3, 4], dtype=np.int64)"
   ]
  },
  {
   "cell_type": "code",
   "execution_count": 4,
   "metadata": {
    "collapsed": false,
    "deletable": true,
    "editable": true
   },
   "outputs": [
    {
     "data": {
      "text/plain": [
       "array([ 1.1,  2.2,  3.3,  4.4])"
      ]
     },
     "execution_count": 4,
     "metadata": {},
     "output_type": "execute_result"
    }
   ],
   "source": [
    "np.array([1.1, 2.2, 3.3, 4.4], dtype=np.float64)"
   ]
  },
  {
   "cell_type": "code",
   "execution_count": 5,
   "metadata": {
    "collapsed": false,
    "deletable": true,
    "editable": true
   },
   "outputs": [
    {
     "data": {
      "text/plain": [
       "array([ 1.10000002+2.20000005j, -3.29999995+0.j        ,\n",
       "        0.00000000+4.4000001j ], dtype=complex64)"
      ]
     },
     "execution_count": 5,
     "metadata": {},
     "output_type": "execute_result"
    }
   ],
   "source": [
    "np.array([1.1 + 2.2j, -3.3, 4.4j], dtype=np.complex64)"
   ]
  },
  {
   "cell_type": "markdown",
   "metadata": {
    "deletable": true,
    "editable": true,
    "slideshow": {
     "slide_type": "subslide"
    }
   },
   "source": [
    "### The shape\n",
    "\n",
    "The **shape** of the **ndarray** describes the size of each dimension."
   ]
  },
  {
   "cell_type": "code",
   "execution_count": 6,
   "metadata": {
    "collapsed": false,
    "deletable": true,
    "editable": true
   },
   "outputs": [
    {
     "name": "stdout",
     "output_type": "stream",
     "text": [
      "Scalar ()\n",
      "3\n"
     ]
    }
   ],
   "source": [
    "scalar = np.array(3)\n",
    "print(\"Scalar\", scalar.shape); print(scalar)"
   ]
  },
  {
   "cell_type": "code",
   "execution_count": 7,
   "metadata": {
    "collapsed": false,
    "deletable": true,
    "editable": true
   },
   "outputs": [
    {
     "name": "stdout",
     "output_type": "stream",
     "text": [
      "Vector (3,)\n",
      "[ 1.  2.  3.]\n"
     ]
    }
   ],
   "source": [
    "vector = np.array([1.0, 2.0, 3.0])\n",
    "print(\"Vector\", vector.shape); print(vector)"
   ]
  },
  {
   "cell_type": "code",
   "execution_count": 8,
   "metadata": {
    "collapsed": false,
    "deletable": true,
    "editable": true
   },
   "outputs": [
    {
     "name": "stdout",
     "output_type": "stream",
     "text": [
      "Matrix (3, 3)\n",
      "[[ 1.  2.  3.]\n",
      " [ 4.  5.  6.]\n",
      " [ 7.  8.  9.]]\n"
     ]
    }
   ],
   "source": [
    "matrix = np.array([[1.0, 2.0, 3.0], [4.0, 5.0, 6.0], [7.0, 8.0, 9.0]])\n",
    "print(\"Matrix\", matrix.shape); print(matrix)"
   ]
  },
  {
   "cell_type": "code",
   "execution_count": 9,
   "metadata": {
    "collapsed": false,
    "deletable": true,
    "editable": true
   },
   "outputs": [
    {
     "name": "stdout",
     "output_type": "stream",
     "text": [
      "Tensor (1, 2, 2, 3)\n",
      "[[[[  1.   2.   3.]\n",
      "   [  4.   5.   6.]]\n",
      "\n",
      "  [[  5.   6.   7.]\n",
      "   [  8.   9.  10.]]]]\n"
     ]
    }
   ],
   "source": [
    "tensor = np.array([[[[1.0, 2.0, 3.0], [4.0, 5.0, 6.0]],\n",
    "                   [[5.0, 6.0, 7.0], [8.0, 9.0, 10.0]]]])\n",
    "print(\"Tensor\", tensor.shape); print(tensor)"
   ]
  },
  {
   "cell_type": "markdown",
   "metadata": {
    "deletable": true,
    "editable": true,
    "slideshow": {
     "slide_type": "subslide"
    }
   },
   "source": [
    "## Array Creation\n",
    "\n",
    " * conversion from other Python structures (e.g., lists, tuples)\n",
    " * array creation functions (e.g., ones, zeros, linspace, random.normal etc.)\n",
    " * Reading arrays from disk, strings or buffers\n",
    "\n",
    "https://docs.scipy.org/doc/numpy-1.12.0/reference/routines.array-creation.html#routines-array-creation"
   ]
  },
  {
   "cell_type": "code",
   "execution_count": 10,
   "metadata": {
    "collapsed": false,
    "deletable": true,
    "editable": true
   },
   "outputs": [
    {
     "data": {
      "text/plain": [
       "array([[ 1.,  1.],\n",
       "       [ 1.,  1.]])"
      ]
     },
     "execution_count": 10,
     "metadata": {},
     "output_type": "execute_result"
    }
   ],
   "source": [
    "np.ones((2,2))"
   ]
  },
  {
   "cell_type": "code",
   "execution_count": 11,
   "metadata": {
    "collapsed": false,
    "deletable": true,
    "editable": true
   },
   "outputs": [
    {
     "data": {
      "text/plain": [
       "array([-1. , -0.9, -0.8, -0.7, -0.6, -0.5, -0.4, -0.3, -0.2, -0.1,  0. ,\n",
       "        0.1,  0.2,  0.3,  0.4,  0.5,  0.6,  0.7,  0.8,  0.9,  1. ])"
      ]
     },
     "execution_count": 11,
     "metadata": {},
     "output_type": "execute_result"
    }
   ],
   "source": [
    "np.linspace(-1, 1, 21)"
   ]
  },
  {
   "cell_type": "code",
   "execution_count": 12,
   "metadata": {
    "collapsed": false,
    "deletable": true,
    "editable": true
   },
   "outputs": [
    {
     "data": {
      "text/plain": [
       "array([[ 0.55700821,  0.4070244 ,  0.78926285],\n",
       "       [ 0.77834488, -0.67959165,  0.30710418],\n",
       "       [-0.75194435,  1.16922865,  0.16003823],\n",
       "       ..., \n",
       "       [ 0.68701632,  0.27558596,  0.29430687],\n",
       "       [ 1.36337253,  0.46857553, -0.90007435],\n",
       "       [-0.27374651, -0.67685141,  0.18652032]])"
      ]
     },
     "execution_count": 12,
     "metadata": {},
     "output_type": "execute_result"
    }
   ],
   "source": [
    "np.random.normal(size=(1000,3))"
   ]
  },
  {
   "cell_type": "markdown",
   "metadata": {
    "deletable": true,
    "editable": true,
    "slideshow": {
     "slide_type": "subslide"
    }
   },
   "source": [
    "### Universal functions\n",
    "\n",
    "A **ufunc** operates on an **ndarray** in an element-by-element fashion\n",
    "  * A fixed number of scalar inputs is mapped on a fixed number of scalar outputs\n",
    "  * Supports vectorization\n",
    "  * Usually implemented in C\n",
    "\n",
    "https://docs.scipy.org/doc/numpy/reference/ufuncs.html"
   ]
  },
  {
   "cell_type": "code",
   "execution_count": 13,
   "metadata": {
    "collapsed": false,
    "deletable": true,
    "editable": true
   },
   "outputs": [
    {
     "data": {
      "text/plain": [
       "array([ 2.,  4.,  6.])"
      ]
     },
     "execution_count": 13,
     "metadata": {},
     "output_type": "execute_result"
    }
   ],
   "source": [
    "vector + vector"
   ]
  },
  {
   "cell_type": "code",
   "execution_count": 14,
   "metadata": {
    "collapsed": false,
    "deletable": true,
    "editable": true
   },
   "outputs": [
    {
     "data": {
      "text/plain": [
       "array([ 1.,  4.,  9.])"
      ]
     },
     "execution_count": 14,
     "metadata": {},
     "output_type": "execute_result"
    }
   ],
   "source": [
    "vector ** 2"
   ]
  },
  {
   "cell_type": "code",
   "execution_count": 15,
   "metadata": {
    "collapsed": false,
    "deletable": true,
    "editable": true
   },
   "outputs": [
    {
     "data": {
      "text/plain": [
       "array([ 0.84147098,  0.90929743,  0.14112001])"
      ]
     },
     "execution_count": 15,
     "metadata": {},
     "output_type": "execute_result"
    }
   ],
   "source": [
    "np.sin(vector)"
   ]
  },
  {
   "cell_type": "code",
   "execution_count": 16,
   "metadata": {
    "collapsed": false,
    "deletable": true,
    "editable": true
   },
   "outputs": [
    {
     "data": {
      "text/plain": [
       "array([ 1.,  1.,  1.])"
      ]
     },
     "execution_count": 16,
     "metadata": {},
     "output_type": "execute_result"
    }
   ],
   "source": [
    "np.sin(vector)**2 + np.cos(vector)**2"
   ]
  },
  {
   "cell_type": "markdown",
   "metadata": {
    "deletable": true,
    "editable": true,
    "slideshow": {
     "slide_type": "subslide"
    }
   },
   "source": [
    "### An incomplete list of ufuncs\n",
    "  * Arithmetic: add (+), subtract (-), multiply (\\*), divide (/), power (\\*\\*), ...\n",
    "  * Functions: sqrt, log, sin, cos, cosh, sinh, arcsin, arccos, ...\n",
    "  * Comparison: less (<), equal (==), greater (>), logical_and (&), logical_or (|), ...\n",
    "  * Floating Point: isfinite, floor, ceil, fabs, ..."
   ]
  },
  {
   "cell_type": "markdown",
   "metadata": {
    "deletable": true,
    "editable": true,
    "slideshow": {
     "slide_type": "subslide"
    }
   },
   "source": [
    "### Broadcasting\n",
    "\n",
    "If you operate with a **ufunc** on **ndarrays** with different shapes, numpy will broadcast them for you.\n",
    "\n",
    " https://docs.scipy.org/doc/numpy-1.10.0/user/basics.broadcasting.html"
   ]
  },
  {
   "cell_type": "code",
   "execution_count": 17,
   "metadata": {
    "collapsed": false,
    "deletable": true,
    "editable": true
   },
   "outputs": [
    {
     "name": "stdout",
     "output_type": "stream",
     "text": [
      "() + (3,) = (3,)\n",
      "3 + [ 1.  2.  3.] = [ 4.  5.  6.]\n"
     ]
    }
   ],
   "source": [
    "r = scalar + vector\n",
    "print(scalar.shape, \"+\", vector.shape, \"=\", r.shape)\n",
    "print(scalar, \"+\", vector, \"=\", r)"
   ]
  },
  {
   "cell_type": "code",
   "execution_count": 18,
   "metadata": {
    "collapsed": false,
    "deletable": true,
    "editable": true
   },
   "outputs": [
    {
     "name": "stdout",
     "output_type": "stream",
     "text": [
      "(3,) + (3,) = (3,)\n",
      "[ 1.  2.  3.] + [ 1.  2.  3.] = [ 2.  4.  6.]\n"
     ]
    }
   ],
   "source": [
    "r = vector + vector\n",
    "print(vector.shape, \"+\", vector.shape, \"=\", r.shape)\n",
    "print(vector, \"+\", vector, \"=\", r)"
   ]
  },
  {
   "cell_type": "code",
   "execution_count": 19,
   "metadata": {
    "collapsed": false,
    "deletable": true,
    "editable": true
   },
   "outputs": [
    {
     "name": "stdout",
     "output_type": "stream",
     "text": [
      "(3, 3) + (3,) = (3, 3)\n",
      "[[ 1.  2.  3.]\n",
      " [ 4.  5.  6.]\n",
      " [ 7.  8.  9.]] + [ 1.  2.  3.] =\n",
      " [[  2.   4.   6.]\n",
      " [  5.   7.   9.]\n",
      " [  8.  10.  12.]]\n"
     ]
    }
   ],
   "source": [
    "r = matrix + vector\n",
    "print(matrix.shape, \"+\", vector.shape, \"=\", r.shape)\n",
    "print(matrix, \"+\", vector, \"=\\n\", r)"
   ]
  },
  {
   "cell_type": "markdown",
   "metadata": {
    "deletable": true,
    "editable": true,
    "slideshow": {
     "slide_type": "subslide"
    }
   },
   "source": [
    "### Reduce\n",
    "\n",
    "A **ufunc** can be used to reduce an **ndarray** by one dimension by applying it along one axis"
   ]
  },
  {
   "cell_type": "code",
   "execution_count": 20,
   "metadata": {
    "collapsed": false,
    "deletable": true,
    "editable": true
   },
   "outputs": [
    {
     "name": "stdout",
     "output_type": "stream",
     "text": [
      "[ 1.  2.  3.]\n"
     ]
    },
    {
     "data": {
      "text/plain": [
       "6.0"
      ]
     },
     "execution_count": 20,
     "metadata": {},
     "output_type": "execute_result"
    }
   ],
   "source": [
    "print(vector)\n",
    "np.add.reduce(vector)"
   ]
  },
  {
   "cell_type": "code",
   "execution_count": 21,
   "metadata": {
    "collapsed": false,
    "deletable": true,
    "editable": true
   },
   "outputs": [
    {
     "name": "stdout",
     "output_type": "stream",
     "text": [
      "[[ 1.  2.  3.]\n",
      " [ 4.  5.  6.]\n",
      " [ 7.  8.  9.]]\n"
     ]
    },
    {
     "data": {
      "text/plain": [
       "array([ 12.,  15.,  18.])"
      ]
     },
     "execution_count": 21,
     "metadata": {},
     "output_type": "execute_result"
    }
   ],
   "source": [
    "print(matrix)\n",
    "np.add.reduce(matrix)"
   ]
  },
  {
   "cell_type": "code",
   "execution_count": 22,
   "metadata": {
    "collapsed": false,
    "deletable": true,
    "editable": true
   },
   "outputs": [
    {
     "data": {
      "text/plain": [
       "array([  6.,  15.,  24.])"
      ]
     },
     "execution_count": 22,
     "metadata": {},
     "output_type": "execute_result"
    }
   ],
   "source": [
    "np.add.reduce(matrix, axis=1)"
   ]
  },
  {
   "cell_type": "markdown",
   "metadata": {
    "deletable": true,
    "editable": true,
    "slideshow": {
     "slide_type": "subslide"
    }
   },
   "source": [
    "### Accumulate\n",
    "\n",
    "A **ufunc** can be used to accumulate the result of applying it to all elements"
   ]
  },
  {
   "cell_type": "code",
   "execution_count": 23,
   "metadata": {
    "collapsed": false,
    "deletable": true,
    "editable": true
   },
   "outputs": [
    {
     "name": "stdout",
     "output_type": "stream",
     "text": [
      "[ 1.  2.  3.]\n"
     ]
    },
    {
     "data": {
      "text/plain": [
       "array([ 1.,  3.,  6.])"
      ]
     },
     "execution_count": 23,
     "metadata": {},
     "output_type": "execute_result"
    }
   ],
   "source": [
    "print(vector)\n",
    "np.add.accumulate(vector)"
   ]
  },
  {
   "cell_type": "code",
   "execution_count": 24,
   "metadata": {
    "collapsed": false,
    "deletable": true,
    "editable": true
   },
   "outputs": [
    {
     "name": "stdout",
     "output_type": "stream",
     "text": [
      "[[ 1.  2.  3.]\n",
      " [ 4.  5.  6.]\n",
      " [ 7.  8.  9.]]\n"
     ]
    },
    {
     "data": {
      "text/plain": [
       "array([[   1.,    2.,    3.],\n",
       "       [   4.,   10.,   18.],\n",
       "       [  28.,   80.,  162.]])"
      ]
     },
     "execution_count": 24,
     "metadata": {},
     "output_type": "execute_result"
    }
   ],
   "source": [
    "print(matrix)\n",
    "np.multiply.accumulate(matrix)"
   ]
  },
  {
   "cell_type": "markdown",
   "metadata": {
    "deletable": true,
    "editable": true,
    "slideshow": {
     "slide_type": "subslide"
    }
   },
   "source": [
    "### Convinience functions\n",
    "\n",
    "Most of the time you will use predefined short-cuts and convinience functions\n",
    "  * np.sum, np.prod\n",
    "  * np.cumsum, np.cumprod\n",
    "  * np.mean, np.std, np.cov\n",
    "  * np.dot, np.outer\n",
    "  * np.max, np.min\n",
    "  * np.linalg\n",
    "  * ..."
   ]
  },
  {
   "cell_type": "code",
   "execution_count": 25,
   "metadata": {
    "collapsed": false,
    "deletable": true,
    "editable": true
   },
   "outputs": [
    {
     "data": {
      "text/plain": [
       "6.0"
      ]
     },
     "execution_count": 25,
     "metadata": {},
     "output_type": "execute_result"
    }
   ],
   "source": [
    "np.sum(vector)"
   ]
  },
  {
   "cell_type": "code",
   "execution_count": 26,
   "metadata": {
    "collapsed": false,
    "deletable": true,
    "editable": true
   },
   "outputs": [
    {
     "data": {
      "text/plain": [
       "array([ 1.,  3.,  6.])"
      ]
     },
     "execution_count": 26,
     "metadata": {},
     "output_type": "execute_result"
    }
   ],
   "source": [
    "np.cumsum(vector)"
   ]
  },
  {
   "cell_type": "markdown",
   "metadata": {
    "deletable": true,
    "editable": true,
    "slideshow": {
     "slide_type": "subslide"
    }
   },
   "source": [
    "### Array manipulation\n",
    "\n",
    "You can reshape, concatenate and split arrays\n",
    "\n",
    "https://docs.scipy.org/doc/numpy/reference/routines.array-manipulation.html"
   ]
  },
  {
   "cell_type": "code",
   "execution_count": 27,
   "metadata": {
    "collapsed": false,
    "deletable": true,
    "editable": true
   },
   "outputs": [
    {
     "data": {
      "text/plain": [
       "array([ 1.,  2.,  3.,  4.,  5.,  6.,  7.,  8.,  9.])"
      ]
     },
     "execution_count": 27,
     "metadata": {},
     "output_type": "execute_result"
    }
   ],
   "source": [
    "np.reshape(matrix, (9,))"
   ]
  },
  {
   "cell_type": "code",
   "execution_count": 28,
   "metadata": {
    "collapsed": false,
    "deletable": true,
    "editable": true
   },
   "outputs": [
    {
     "data": {
      "text/plain": [
       "array([[ 1.,  2.,  3.],\n",
       "       [ 4.,  5.,  6.],\n",
       "       [ 7.,  8.,  9.],\n",
       "       [ 1.,  2.,  3.]])"
      ]
     },
     "execution_count": 28,
     "metadata": {},
     "output_type": "execute_result"
    }
   ],
   "source": [
    "np.vstack([matrix, vector])"
   ]
  },
  {
   "cell_type": "code",
   "execution_count": 29,
   "metadata": {
    "collapsed": false,
    "deletable": true,
    "editable": true
   },
   "outputs": [
    {
     "data": {
      "text/plain": [
       "[array([[ 1.,  2.,  3.]]), array([[ 4.,  5.,  6.]]), array([[ 7.,  8.,  9.]])]"
      ]
     },
     "execution_count": 29,
     "metadata": {},
     "output_type": "execute_result"
    }
   ],
   "source": [
    "np.vsplit(matrix, 3)"
   ]
  },
  {
   "cell_type": "markdown",
   "metadata": {
    "deletable": true,
    "editable": true,
    "slideshow": {
     "slide_type": "subslide"
    }
   },
   "source": [
    "### Indexing\n",
    "\n",
    "You can access individual elements or parts of **ndarrays** in various ways.\n",
    "\n",
    "This is probably the most difficult part to get right in terms of performance.\n",
    "\n",
    "https://docs.scipy.org/doc/numpy/reference/routines.indexing.html"
   ]
  },
  {
   "cell_type": "code",
   "execution_count": 30,
   "metadata": {
    "collapsed": false,
    "deletable": true,
    "editable": true
   },
   "outputs": [
    {
     "name": "stdout",
     "output_type": "stream",
     "text": [
      "1.0 2.0 3.0\n"
     ]
    }
   ],
   "source": [
    "print(vector[0], vector[1], vector[2])"
   ]
  },
  {
   "cell_type": "code",
   "execution_count": 31,
   "metadata": {
    "collapsed": false,
    "deletable": true,
    "editable": true
   },
   "outputs": [
    {
     "name": "stdout",
     "output_type": "stream",
     "text": [
      "[ 1.  3.]\n"
     ]
    }
   ],
   "source": [
    "print(vector[[True, False, True]])"
   ]
  },
  {
   "cell_type": "code",
   "execution_count": 32,
   "metadata": {
    "collapsed": false,
    "deletable": true,
    "editable": true
   },
   "outputs": [
    {
     "name": "stdout",
     "output_type": "stream",
     "text": [
      "[[ 2.  3.]\n",
      " [ 5.  6.]]\n"
     ]
    }
   ],
   "source": [
    "print(matrix[:2, 1:])"
   ]
  },
  {
   "cell_type": "code",
   "execution_count": 33,
   "metadata": {
    "collapsed": false,
    "deletable": true,
    "editable": true
   },
   "outputs": [
    {
     "name": "stdout",
     "output_type": "stream",
     "text": [
      "1.0\n",
      "2.0\n",
      "3.0\n"
     ]
    }
   ],
   "source": [
    "for x in vector:\n",
    "    print(x)"
   ]
  },
  {
   "cell_type": "markdown",
   "metadata": {
    "deletable": true,
    "editable": true,
    "slideshow": {
     "slide_type": "subslide"
    }
   },
   "source": [
    "### The Golden Rule: Avoid Loops in Python"
   ]
  },
  {
   "cell_type": "code",
   "execution_count": 34,
   "metadata": {
    "collapsed": true,
    "deletable": true,
    "editable": true
   },
   "outputs": [],
   "source": [
    "x = np.arange(1, 1000001)"
   ]
  },
  {
   "cell_type": "code",
   "execution_count": 35,
   "metadata": {
    "collapsed": false,
    "deletable": true,
    "editable": true
   },
   "outputs": [
    {
     "name": "stdout",
     "output_type": "stream",
     "text": [
      "10 loops, best of 3: 128 ms per loop\n"
     ]
    }
   ],
   "source": [
    "%%timeit\n",
    "mysum = 0\n",
    "for element in x:\n",
    "    mysum += element"
   ]
  },
  {
   "cell_type": "code",
   "execution_count": 36,
   "metadata": {
    "collapsed": false,
    "deletable": true,
    "editable": true
   },
   "outputs": [
    {
     "name": "stdout",
     "output_type": "stream",
     "text": [
      "10 loops, best of 3: 62.8 ms per loop\n"
     ]
    }
   ],
   "source": [
    "%timeit sum(x)"
   ]
  },
  {
   "cell_type": "code",
   "execution_count": 37,
   "metadata": {
    "collapsed": false,
    "deletable": true,
    "editable": true
   },
   "outputs": [
    {
     "name": "stdout",
     "output_type": "stream",
     "text": [
      "1000 loops, best of 3: 564 µs per loop\n"
     ]
    }
   ],
   "source": [
    "%timeit np.sum(x)"
   ]
  },
  {
   "cell_type": "markdown",
   "metadata": {
    "deletable": true,
    "editable": true,
    "slideshow": {
     "slide_type": "slide"
    }
   },
   "source": [
    "## Example 1: Fisher's Discriminant\n",
    "\n",
    "Consider two two-dimensional gaussian distributions for signal and background"
   ]
  },
  {
   "cell_type": "code",
   "execution_count": 38,
   "metadata": {
    "collapsed": true,
    "deletable": true,
    "editable": true,
    "slideshow": {
     "slide_type": "skip"
    }
   },
   "outputs": [],
   "source": [
    "def plot_data(signal, background, fisher=None, neuralnet=None):\n",
    "    import matplotlib.pyplot as plt\n",
    "    plt.scatter(signal[:, 0], signal[:, 1], alpha=0.3)\n",
    "    plt.scatter(background[:, 0], background[:, 1], alpha=0.3)\n",
    "    if fisher is not None:\n",
    "        plt.plot([-fisher[0]*3,fisher[0]*3],[-fisher[1]*3,fisher[1]*3], 'k-',lw=4)\n",
    "    if neuralnet is not None:\n",
    "        support = np.arange(-5.0, 5.5, 0.5)\n",
    "        X, Y = np.meshgrid(support, support)\n",
    "        R = np.array([[float(neuralnet.predict(np.array([[x, y]]))) for x in support] for y in support])\n",
    "        plt.contourf(X, Y, R ,alpha=0.5)\n",
    "    plt.show()"
   ]
  },
  {
   "cell_type": "code",
   "execution_count": 39,
   "metadata": {
    "collapsed": false,
    "deletable": true,
    "editable": true,
    "slideshow": {
     "slide_type": "subslide"
    }
   },
   "outputs": [
    {
     "name": "stdout",
     "output_type": "stream",
     "text": [
      "(1000, 2) (1000, 2)\n"
     ]
    },
    {
     "data": {
      "image/png": "[encoded data removed]",
      "text/plain": [
       "<matplotlib.figure.Figure at 0x7fef80f0c6d8>"
      ]
     },
     "metadata": {},
     "output_type": "display_data"
    }
   ],
   "source": [
    "N = 1000\n",
    "signal = np.random.multivariate_normal([-1.0,-1.0],[[1.0,0.5],[0.5,1.0]],(N,))\n",
    "bckgrd = np.random.multivariate_normal([1.0,1.0],[[1.0,-0.5],[-0.5,1.0]],(N,))\n",
    "print(signal.shape, bckgrd.shape)\n",
    "plot_data(signal, bckgrd)"
   ]
  },
  {
   "cell_type": "markdown",
   "metadata": {
    "deletable": true,
    "editable": true,
    "slideshow": {
     "slide_type": "subslide"
    }
   },
   "source": [
    "We calculate Fisher's discriminant:\n",
    "$$ \\vec{d} = \\frac{\\vec{\\mu}_S - \\vec{\\mu}_B}{\\Sigma_S + \\Sigma_B}$$"
   ]
  },
  {
   "cell_type": "code",
   "execution_count": 40,
   "metadata": {
    "collapsed": false,
    "deletable": true,
    "editable": true
   },
   "outputs": [
    {
     "data": {
      "image/png": "[encoded data removed]",
      "text/plain": [
       "<matplotlib.figure.Figure at 0x7fef7c60a240>"
      ]
     },
     "metadata": {},
     "output_type": "display_data"
    }
   ],
   "source": [
    "from numpy.linalg import inv\n",
    "numerator = np.mean(signal, axis=0) - np.mean(bckgrd, axis=0)\n",
    "denominator = np.cov(signal.T) + np.cov(bckgrd.T)\n",
    "fisher = np.dot(inv(denominator), numerator)\n",
    "\n",
    "plot_data(signal, bckgrd, fisher=fisher)"
   ]
  },
  {
   "cell_type": "markdown",
   "metadata": {
    "deletable": true,
    "editable": true,
    "slideshow": {
     "slide_type": "slide"
    }
   },
   "source": [
    "## Example 2: Neural Network\n",
    "\n",
    "** Feed Forward **\n",
    "$$ a_h = \\sum_i w_{hi} x_i $$\n",
    "$$ x_h = \\tanh{a_h}$$\n",
    "$$ a_o = \\sum_h w_{oh} x_h $$\n",
    "$$ x_o = \\tanh{a_o}$$\n",
    "\n",
    "**Backpropagation Algorithm**\n",
    "\n",
    "$$\\frac{\\mathrm{d}E}{\\mathrm{d}w} = \\frac{\\partial E}{\\partial x} \\cdot \\frac{\\partial x}{\\partial a} \\cdot \\frac{\\partial a}{\\partial w}$$\n",
    "\n",
    "** Output Layer **\n",
    "$$E \\left( x_o \\right) = \\frac{1}{2} \\left( x_o - t \\right)^2 $$\n",
    "\n",
    "** Hidden Layer **\n",
    "$$E \\left( x_h \\right) = E \\left( x_o(x_h) \\right)$$"
   ]
  },
  {
   "cell_type": "code",
   "execution_count": 41,
   "metadata": {
    "collapsed": true,
    "deletable": true,
    "editable": true,
    "slideshow": {
     "slide_type": "subslide"
    }
   },
   "outputs": [],
   "source": [
    "class NeuralNetwork(object):\n",
    "    def __init__(self, n_input, n_hidden):\n",
    "        self.w_hi = np.random.normal(size=(n_input, n_hidden))\n",
    "        self.w_oh = np.random.normal(size=n_hidden)\n",
    "\n",
    "    def fit(self, x_i, t):\n",
    "        for step in range(1, 1000):\n",
    "            # Propagate input through hidden and output layer\n",
    "            a_h = np.dot(x_i, self.w_hi)\n",
    "            x_h = np.tanh(a_h)\n",
    "            a_o = np.dot(x_h, self.w_oh)\n",
    "            x_o = np.tanh(a_o)\n",
    "            # Back-Propagate error signal\n",
    "            d = lambda x: 4*np.cosh(x)**2/(np.cosh(2*x) + 1)**2\n",
    "            e_o = d(a_o)*(x_o - t)\n",
    "            e_h = d(a_h)*np.outer(e_o, self.w_oh)\n",
    "            # Update weights\n",
    "            self.w_oh -= 0.01 * np.dot(e_o.T, x_h)\n",
    "            self.w_hi -= 0.01 * np.dot(x_i.T, e_h)\n",
    "\n",
    "    def predict(self, x_i):\n",
    "        # Propagate input trough hidden layer\n",
    "        x_h = np.tanh(np.dot(x_i, self.w_hi))\n",
    "        # Propagate output of hidden layer through output layer\n",
    "        return np.tanh(np.dot(x_h, self.w_oh))"
   ]
  },
  {
   "cell_type": "code",
   "execution_count": 42,
   "metadata": {
    "collapsed": false,
    "deletable": true,
    "editable": true,
    "slideshow": {
     "slide_type": "subslide"
    }
   },
   "outputs": [
    {
     "data": {
      "image/png": "[encoded data removed]",
      "text/plain": [
       "<matplotlib.figure.Figure at 0x7fef7c556a20>"
      ]
     },
     "metadata": {},
     "output_type": "display_data"
    }
   ],
   "source": [
    "nn = NeuralNetwork(2, 4)\n",
    "nn.fit(np.vstack([signal, bckgrd]),\n",
    "       np.hstack([np.ones(N), -np.ones(N)]))\n",
    "plot_data(signal, bckgrd, neuralnet=nn)"
   ]
  },
  {
   "cell_type": "markdown",
   "metadata": {
    "deletable": true,
    "editable": true,
    "slideshow": {
     "slide_type": "slide"
    }
   },
   "source": [
    "## Exercise \n",
    "\n",
    "\n",
    "#### Task 1\n",
    "\n",
    "Calculate $\\pi$ using the formula of Leibniz\n",
    "$$ 4 \\cdot \\sum_{k=1}^\\infty \\frac{(-1)^{k+1}}{2 k - 1}$$\n",
    "\n",
    "\n",
    "#### Task 2\n",
    "\n",
    "Check the central limit theorem by adding 100 uniformly distributed numbers between 0, 1.\n",
    "$$ y = \\sum_{i=1}^{100} x_i$$ \n",
    "\n",
    "Do this 10000 times, standardise the obtained values $y' = \\frac{y - \\mu_y}{\\sigma_y}$ and plot the histogram using\n",
    "```\n",
    "%matplotlib inline\n",
    "import matplotlib.pyplot as plt\n",
    "plt.hist(y_array)\n",
    "```\n",
    "\n",
    "Compare the distribution with 10000 random numbers directly drawn from np.random.normal.\n",
    "\n",
    "\n",
    "#### Task 3\n",
    "\n",
    "Implement the sieve of Eratosthenes to find all the prime numbers up to 1000 without using any Python loops\n",
    "\n",
    "Hint: My personal solution is a one-liner and uses the following three functions:\n",
    "  * np.arange\n",
    "  * np.sum\n",
    "  * np.remainder.outer"
   ]
  }
 ],
 "metadata": {
  "celltoolbar": "Slideshow",
  "kernelspec": {
   "display_name": "Python 3 (Belle2)",
   "language": "python",
   "name": "python3"
  },
  "language_info": {
   "codemirror_mode": {
    "name": "ipython",
    "version": 3
   },
   "file_extension": ".py",
   "mimetype": "text/x-python",
   "name": "python",
   "nbconvert_exporter": "python",
   "pygments_lexer": "ipython3",
   "version": "3.6.2"
  }
 },
 "nbformat": 4,
 "nbformat_minor": 2
}
