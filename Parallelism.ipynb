{
 "cells": [
  {
   "cell_type": "markdown",
   "metadata": {},
   "source": [
    "# Parallelism\n",
    "\n",
    "There are basically four interesting scenarios we can distinguish:\n",
    "\n",
    "  - Few long-running IO bound jobs\n",
    "  - Few long-running CPU bound jobs\n",
    "  - Many short-running IO bound jobs\n",
    "  - Many short-running CPU bound jobs"
   ]
  },
  {
   "cell_type": "code",
   "execution_count": 22,
   "metadata": {},
   "outputs": [],
   "source": [
    "import concurrent.futures\n",
    "import time\n",
    "import numpy as np\n",
    "\n",
    "def long_io_bound():\n",
    "    \"\"\" A long io bound job which runs for 1 s \"\"\"\n",
    "    time.sleep(1)\n",
    "        \n",
    "def long_cpu_bound():\n",
    "    \"\"\" A long cpu bound job which runs for a few seconds \"\"\"\n",
    "    matrix = np.random.uniform(size=(90, 90))\n",
    "    for i in range(0, 10000):\n",
    "        matrix = matrix @ matrix\n",
    "    \n",
    "def short_io_bound():\n",
    "    \"\"\" A short io bound job which runs for 1 ms \"\"\"\n",
    "    time.sleep(0.001)\n",
    "    \n",
    "def short_cpu_bound():\n",
    "    \"\"\" A short cpu bound job which runs for a few ms \"\"\"\n",
    "    matrix = np.random.uniform(size=(90, 90))\n",
    "    for i in range(0, 10):\n",
    "        matrix = matrix @ matrix\n",
    "        \n",
    "few_jobs = 10\n",
    "many_jobs = 10000"
   ]
  },
  {
   "cell_type": "code",
   "execution_count": 6,
   "metadata": {},
   "outputs": [
    {
     "name": "stdout",
     "output_type": "stream",
     "text": [
      "1 s ± 95.3 µs per loop (mean ± std. dev. of 7 runs, 1 loop each)\n"
     ]
    }
   ],
   "source": [
    "%%timeit \n",
    "long_io_bound()"
   ]
  },
  {
   "cell_type": "code",
   "execution_count": 23,
   "metadata": {},
   "outputs": [
    {
     "name": "stdout",
     "output_type": "stream",
     "text": [
      "1.22 s ± 39.5 ms per loop (mean ± std. dev. of 7 runs, 1 loop each)\n"
     ]
    }
   ],
   "source": [
    "%%timeit \n",
    "long_cpu_bound()"
   ]
  },
  {
   "cell_type": "code",
   "execution_count": 24,
   "metadata": {},
   "outputs": [
    {
     "name": "stdout",
     "output_type": "stream",
     "text": [
      "1.14 ms ± 6.41 µs per loop (mean ± std. dev. of 7 runs, 1000 loops each)\n"
     ]
    }
   ],
   "source": [
    "%%timeit \n",
    "short_io_bound()"
   ]
  },
  {
   "cell_type": "code",
   "execution_count": 26,
   "metadata": {},
   "outputs": [
    {
     "name": "stdout",
     "output_type": "stream",
     "text": [
      "1.41 ms ± 36.3 µs per loop (mean ± std. dev. of 7 runs, 1000 loops each)\n"
     ]
    }
   ],
   "source": [
    "%%timeit \n",
    "short_cpu_bound()"
   ]
  },
  {
   "cell_type": "markdown",
   "metadata": {},
   "source": [
    "## Multiprocessing"
   ]
  },
  {
   "cell_type": "code",
   "execution_count": 27,
   "metadata": {},
   "outputs": [
    {
     "name": "stdout",
     "output_type": "stream",
     "text": [
      "CPU times: user 24 ms, sys: 4 ms, total: 28 ms\n",
      "Wall time: 5.05 s\n"
     ]
    }
   ],
   "source": [
    "%%time\n",
    "with concurrent.futures.ProcessPoolExecutor() as executor:\n",
    "    for i in range(few_jobs):\n",
    "        executor.submit(long_io_bound)"
   ]
  },
  {
   "cell_type": "code",
   "execution_count": 28,
   "metadata": {},
   "outputs": [
    {
     "name": "stdout",
     "output_type": "stream",
     "text": [
      "CPU times: user 16 ms, sys: 8 ms, total: 24 ms\n",
      "Wall time: 15.4 s\n"
     ]
    }
   ],
   "source": [
    "%%time\n",
    "with concurrent.futures.ProcessPoolExecutor() as executor:\n",
    "    for i in range(few_jobs):\n",
    "        executor.submit(long_cpu_bound)"
   ]
  },
  {
   "cell_type": "code",
   "execution_count": 29,
   "metadata": {},
   "outputs": [
    {
     "name": "stdout",
     "output_type": "stream",
     "text": [
      "CPU times: user 4.22 s, sys: 808 ms, total: 5.03 s\n",
      "Wall time: 7.31 s\n"
     ]
    }
   ],
   "source": [
    "%%time\n",
    "with concurrent.futures.ProcessPoolExecutor() as executor:\n",
    "    for i in range(many_jobs):\n",
    "        executor.submit(short_io_bound)"
   ]
  },
  {
   "cell_type": "code",
   "execution_count": 30,
   "metadata": {},
   "outputs": [
    {
     "name": "stdout",
     "output_type": "stream",
     "text": [
      "CPU times: user 3.1 s, sys: 224 ms, total: 3.32 s\n",
      "Wall time: 19.2 s\n"
     ]
    }
   ],
   "source": [
    "%%time\n",
    "with concurrent.futures.ProcessPoolExecutor() as executor:\n",
    "    for i in range(many_jobs):\n",
    "        executor.submit(short_cpu_bound)"
   ]
  },
  {
   "cell_type": "markdown",
   "metadata": {},
   "source": [
    "## Threading"
   ]
  },
  {
   "cell_type": "code",
   "execution_count": 31,
   "metadata": {},
   "outputs": [
    {
     "name": "stdout",
     "output_type": "stream",
     "text": [
      "CPU times: user 0 ns, sys: 4 ms, total: 4 ms\n",
      "Wall time: 1.01 s\n"
     ]
    }
   ],
   "source": [
    "%%time\n",
    "with concurrent.futures.ThreadPoolExecutor() as executor:\n",
    "    for i in range(few_jobs):\n",
    "        executor.submit(long_io_bound)"
   ]
  },
  {
   "cell_type": "code",
   "execution_count": 34,
   "metadata": {},
   "outputs": [
    {
     "name": "stdout",
     "output_type": "stream",
     "text": [
      "CPU times: user 8min, sys: 18min 5s, total: 26min 6s\n",
      "Wall time: 13min 57s\n"
     ]
    }
   ],
   "source": [
    "%%time\n",
    "with concurrent.futures.ThreadPoolExecutor() as executor:\n",
    "    for i in range(few_jobs):\n",
    "        executor.submit(long_cpu_bound)"
   ]
  },
  {
   "cell_type": "code",
   "execution_count": 32,
   "metadata": {},
   "outputs": [
    {
     "name": "stdout",
     "output_type": "stream",
     "text": [
      "CPU times: user 784 ms, sys: 156 ms, total: 940 ms\n",
      "Wall time: 1.49 s\n"
     ]
    }
   ],
   "source": [
    "%%time\n",
    "with concurrent.futures.ThreadPoolExecutor() as executor:\n",
    "    for i in range(many_jobs):\n",
    "        executor.submit(short_io_bound)"
   ]
  },
  {
   "cell_type": "code",
   "execution_count": 33,
   "metadata": {},
   "outputs": [
    {
     "name": "stdout",
     "output_type": "stream",
     "text": [
      "CPU times: user 9min 2s, sys: 20min 40s, total: 29min 43s\n",
      "Wall time: 15min 52s\n"
     ]
    }
   ],
   "source": [
    "%%time\n",
    "with concurrent.futures.ThreadPoolExecutor() as executor:\n",
    "    for i in range(many_jobs):\n",
    "        executor.submit(short_cpu_bound)"
   ]
  },
  {
   "cell_type": "markdown",
   "metadata": {},
   "source": [
    "## Async (Cooperative Parallelism)"
   ]
  },
  {
   "cell_type": "code",
   "execution_count": 41,
   "metadata": {},
   "outputs": [],
   "source": [
    "import asyncio\n",
    "\n",
    "async def cpu_bound(matrix):\n",
    "    \"\"\" Asynchroneous matrix multiplication \"\"\"\n",
    "    return matrix @ matrix\n",
    "    \n",
    "async def long_io_bound():\n",
    "    \"\"\" A long io bound job which runs for 1 s \"\"\"\n",
    "    await asyncio.sleep(1)\n",
    "    \n",
    "async def long_cpu_bound():\n",
    "    \"\"\" A long cpu bound job which runs for a few seconds \"\"\"\n",
    "    matrix = np.random.uniform(size=(90, 90))\n",
    "    for i in range(0, 10000):\n",
    "        matrix = await cpu_bound(matrix)\n",
    "\n",
    "async def short_io_bound():\n",
    "    \"\"\" A short io bound job which runs for 1 ms \"\"\"\n",
    "    await asyncio.sleep(0.001)\n",
    "    \n",
    "async def short_cpu_bound():\n",
    "    \"\"\" A short cpu bound job which runs for a few ms \"\"\"\n",
    "    matrix = np.random.uniform(size=(90, 90))\n",
    "    for i in range(0, 10):\n",
    "        matrix = await cpu_bound(matrix)"
   ]
  },
  {
   "cell_type": "code",
   "execution_count": 42,
   "metadata": {},
   "outputs": [],
   "source": [
    "loop = asyncio.get_event_loop()"
   ]
  },
  {
   "cell_type": "code",
   "execution_count": 43,
   "metadata": {},
   "outputs": [
    {
     "name": "stdout",
     "output_type": "stream",
     "text": [
      "CPU times: user 20 ms, sys: 8 ms, total: 28 ms\n",
      "Wall time: 1.04 s\n"
     ]
    }
   ],
   "source": [
    "%%time\n",
    "jobs = [asyncio.async(long_io_bound()) for i in range(few_jobs)]\n",
    "loop.run_until_complete(asyncio.gather(*jobs))"
   ]
  },
  {
   "cell_type": "code",
   "execution_count": 44,
   "metadata": {},
   "outputs": [
    {
     "name": "stdout",
     "output_type": "stream",
     "text": [
      "CPU times: user 22.7 s, sys: 1.17 s, total: 23.9 s\n",
      "Wall time: 12.1 s\n"
     ]
    }
   ],
   "source": [
    "%%time\n",
    "jobs = [asyncio.async(long_cpu_bound()) for i in range(few_jobs)]\n",
    "loop.run_until_complete(asyncio.gather(*jobs))"
   ]
  },
  {
   "cell_type": "code",
   "execution_count": 45,
   "metadata": {},
   "outputs": [
    {
     "name": "stdout",
     "output_type": "stream",
     "text": [
      "CPU times: user 992 ms, sys: 40 ms, total: 1.03 s\n",
      "Wall time: 1.03 s\n"
     ]
    }
   ],
   "source": [
    "%%time\n",
    "jobs = [asyncio.async(short_io_bound()) for i in range(many_jobs)]\n",
    "loop.run_until_complete(asyncio.gather(*jobs))"
   ]
  },
  {
   "cell_type": "code",
   "execution_count": 46,
   "metadata": {},
   "outputs": [
    {
     "name": "stdout",
     "output_type": "stream",
     "text": [
      "CPU times: user 26.1 s, sys: 2.64 s, total: 28.7 s\n",
      "Wall time: 14.7 s\n"
     ]
    }
   ],
   "source": [
    "%%time\n",
    "jobs = [asyncio.async(short_cpu_bound()) for i in range(many_jobs)]\n",
    "loop.run_until_complete(asyncio.gather(*jobs))"
   ]
  },
  {
   "cell_type": "code",
   "execution_count": null,
   "metadata": {},
   "outputs": [],
   "source": []
  }
 ],
 "metadata": {
  "kernelspec": {
   "display_name": "Python 3",
   "language": "python",
   "name": "python3"
  },
  "language_info": {
   "codemirror_mode": {
    "name": "ipython",
    "version": 3
   },
   "file_extension": ".py",
   "mimetype": "text/x-python",
   "name": "python",
   "nbconvert_exporter": "python",
   "pygments_lexer": "ipython3",
   "version": "3.5.3"
  }
 },
 "nbformat": 4,
 "nbformat_minor": 2
}
