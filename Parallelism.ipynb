{
 "cells": [
  {
   "cell_type": "markdown",
   "metadata": {},
   "source": [
    "# Parallelism\n",
    "\n",
    "There are basically four interesting scenarios we can distinguish:\n",
    "\n",
    "  - Few long-running IO bound jobs\n",
    "  - Few long-running CPU bound jobs\n",
    "  - Many short-running IO bound jobs\n",
    "  - Many short-running CPU bound jobs"
   ]
  },
  {
   "cell_type": "code",
   "execution_count": 3,
   "metadata": {},
   "outputs": [],
   "source": [
    "# The BLAS implementation used by numpy uses multiple processes, for our test we deactivate this\n",
    "import os\n",
    "os.environ['OMP_NUM_THREADS'] = '1'"
   ]
  },
  {
   "cell_type": "code",
   "execution_count": 7,
   "metadata": {},
   "outputs": [],
   "source": [
    "import concurrent.futures\n",
    "import time\n",
    "import numpy as np\n",
    "\n",
    "def long_io_bound():\n",
    "    \"\"\" A long io bound job which runs for 1 s \"\"\"\n",
    "    time.sleep(1)\n",
    "        \n",
    "def long_cpu_bound():\n",
    "    \"\"\" A long cpu bound job which runs for a few seconds \"\"\"\n",
    "    matrix = np.random.uniform(size=(90, 90))\n",
    "    for i in range(0, 5000):\n",
    "        matrix = matrix @ matrix\n",
    "    \n",
    "def short_io_bound():\n",
    "    \"\"\" A short io bound job which runs for 1 ms \"\"\"\n",
    "    time.sleep(0.001)\n",
    "    \n",
    "def short_cpu_bound():\n",
    "    \"\"\" A short cpu bound job which runs for a few ms \"\"\"\n",
    "    matrix = np.random.uniform(size=(90, 90))\n",
    "    for i in range(0, 5):\n",
    "        matrix = matrix @ matrix\n",
    "        \n",
    "few_jobs = 10\n",
    "many_jobs = 10000"
   ]
  },
  {
   "cell_type": "code",
   "execution_count": 8,
   "metadata": {},
   "outputs": [
    {
     "name": "stdout",
     "output_type": "stream",
     "text": [
      "1 s ± 271 µs per loop (mean ± std. dev. of 7 runs, 1 loop each)\n"
     ]
    }
   ],
   "source": [
    "%%timeit \n",
    "long_io_bound()"
   ]
  },
  {
   "cell_type": "code",
   "execution_count": 9,
   "metadata": {},
   "outputs": [
    {
     "name": "stdout",
     "output_type": "stream",
     "text": [
      "937 ms ± 5.15 ms per loop (mean ± std. dev. of 7 runs, 1 loop each)\n"
     ]
    }
   ],
   "source": [
    "%%timeit \n",
    "long_cpu_bound()"
   ]
  },
  {
   "cell_type": "code",
   "execution_count": 10,
   "metadata": {},
   "outputs": [
    {
     "name": "stdout",
     "output_type": "stream",
     "text": [
      "1.14 ms ± 1.9 µs per loop (mean ± std. dev. of 7 runs, 1000 loops each)\n"
     ]
    }
   ],
   "source": [
    "%%timeit \n",
    "short_io_bound()"
   ]
  },
  {
   "cell_type": "code",
   "execution_count": 11,
   "metadata": {},
   "outputs": [
    {
     "name": "stdout",
     "output_type": "stream",
     "text": [
      "1.17 ms ± 82.8 µs per loop (mean ± std. dev. of 7 runs, 1000 loops each)\n"
     ]
    }
   ],
   "source": [
    "%%timeit \n",
    "short_cpu_bound()"
   ]
  },
  {
   "cell_type": "markdown",
   "metadata": {},
   "source": [
    "## Sequential"
   ]
  },
  {
   "cell_type": "code",
   "execution_count": 12,
   "metadata": {},
   "outputs": [
    {
     "name": "stdout",
     "output_type": "stream",
     "text": [
      "CPU times: user 4 ms, sys: 0 ns, total: 4 ms\n",
      "Wall time: 10 s\n"
     ]
    }
   ],
   "source": [
    "%%time\n",
    "for i in range(few_jobs):\n",
    "    long_io_bound()"
   ]
  },
  {
   "cell_type": "code",
   "execution_count": 13,
   "metadata": {},
   "outputs": [
    {
     "name": "stdout",
     "output_type": "stream",
     "text": [
      "CPU times: user 9.35 s, sys: 0 ns, total: 9.35 s\n",
      "Wall time: 9.38 s\n"
     ]
    }
   ],
   "source": [
    "%%time\n",
    "for i in range(few_jobs):\n",
    "    long_cpu_bound()"
   ]
  },
  {
   "cell_type": "code",
   "execution_count": 14,
   "metadata": {},
   "outputs": [
    {
     "name": "stdout",
     "output_type": "stream",
     "text": [
      "CPU times: user 196 ms, sys: 92 ms, total: 288 ms\n",
      "Wall time: 11.4 s\n"
     ]
    }
   ],
   "source": [
    "%%time\n",
    "for i in range(many_jobs):\n",
    "    short_io_bound()"
   ]
  },
  {
   "cell_type": "code",
   "execution_count": 15,
   "metadata": {},
   "outputs": [
    {
     "name": "stdout",
     "output_type": "stream",
     "text": [
      "CPU times: user 11.4 s, sys: 0 ns, total: 11.4 s\n",
      "Wall time: 11.6 s\n"
     ]
    }
   ],
   "source": [
    "%%time\n",
    "for i in range(many_jobs):\n",
    "    short_cpu_bound()"
   ]
  },
  {
   "cell_type": "markdown",
   "metadata": {},
   "source": [
    "## Multiprocessing"
   ]
  },
  {
   "cell_type": "code",
   "execution_count": 16,
   "metadata": {},
   "outputs": [
    {
     "name": "stdout",
     "output_type": "stream",
     "text": [
      "CPU times: user 20 ms, sys: 8 ms, total: 28 ms\n",
      "Wall time: 5.04 s\n"
     ]
    }
   ],
   "source": [
    "%%time\n",
    "with concurrent.futures.ProcessPoolExecutor() as executor:\n",
    "    for i in range(few_jobs):\n",
    "        executor.submit(long_io_bound)"
   ]
  },
  {
   "cell_type": "code",
   "execution_count": 17,
   "metadata": {},
   "outputs": [
    {
     "name": "stdout",
     "output_type": "stream",
     "text": [
      "CPU times: user 4 ms, sys: 20 ms, total: 24 ms\n",
      "Wall time: 6.39 s\n"
     ]
    }
   ],
   "source": [
    "%%time\n",
    "with concurrent.futures.ProcessPoolExecutor() as executor:\n",
    "    for i in range(few_jobs):\n",
    "        executor.submit(long_cpu_bound)"
   ]
  },
  {
   "cell_type": "code",
   "execution_count": 18,
   "metadata": {},
   "outputs": [
    {
     "name": "stdout",
     "output_type": "stream",
     "text": [
      "CPU times: user 4.04 s, sys: 908 ms, total: 4.94 s\n",
      "Wall time: 7.48 s\n"
     ]
    }
   ],
   "source": [
    "%%time\n",
    "with concurrent.futures.ProcessPoolExecutor() as executor:\n",
    "    for i in range(many_jobs):\n",
    "        executor.submit(short_io_bound)"
   ]
  },
  {
   "cell_type": "code",
   "execution_count": 19,
   "metadata": {},
   "outputs": [
    {
     "name": "stdout",
     "output_type": "stream",
     "text": [
      "CPU times: user 3.2 s, sys: 628 ms, total: 3.82 s\n",
      "Wall time: 11.2 s\n"
     ]
    }
   ],
   "source": [
    "%%time\n",
    "with concurrent.futures.ProcessPoolExecutor() as executor:\n",
    "    for i in range(many_jobs):\n",
    "        executor.submit(short_cpu_bound)"
   ]
  },
  {
   "cell_type": "markdown",
   "metadata": {},
   "source": [
    "## Threading"
   ]
  },
  {
   "cell_type": "code",
   "execution_count": 20,
   "metadata": {},
   "outputs": [
    {
     "name": "stdout",
     "output_type": "stream",
     "text": [
      "CPU times: user 8 ms, sys: 0 ns, total: 8 ms\n",
      "Wall time: 1 s\n"
     ]
    }
   ],
   "source": [
    "%%time\n",
    "with concurrent.futures.ThreadPoolExecutor() as executor:\n",
    "    for i in range(few_jobs):\n",
    "        executor.submit(long_io_bound)"
   ]
  },
  {
   "cell_type": "code",
   "execution_count": 21,
   "metadata": {},
   "outputs": [
    {
     "name": "stdout",
     "output_type": "stream",
     "text": [
      "CPU times: user 10.1 s, sys: 8 ms, total: 10.1 s\n",
      "Wall time: 5.25 s\n"
     ]
    }
   ],
   "source": [
    "%%time\n",
    "with concurrent.futures.ThreadPoolExecutor() as executor:\n",
    "    for i in range(few_jobs):\n",
    "        executor.submit(long_cpu_bound)"
   ]
  },
  {
   "cell_type": "code",
   "execution_count": 22,
   "metadata": {},
   "outputs": [
    {
     "name": "stdout",
     "output_type": "stream",
     "text": [
      "CPU times: user 704 ms, sys: 140 ms, total: 844 ms\n",
      "Wall time: 1.45 s\n"
     ]
    }
   ],
   "source": [
    "%%time\n",
    "with concurrent.futures.ThreadPoolExecutor() as executor:\n",
    "    for i in range(many_jobs):\n",
    "        executor.submit(short_io_bound)"
   ]
  },
  {
   "cell_type": "code",
   "execution_count": 23,
   "metadata": {},
   "outputs": [
    {
     "name": "stdout",
     "output_type": "stream",
     "text": [
      "CPU times: user 12.7 s, sys: 184 ms, total: 12.9 s\n",
      "Wall time: 7.61 s\n"
     ]
    }
   ],
   "source": [
    "%%time\n",
    "with concurrent.futures.ThreadPoolExecutor() as executor:\n",
    "    for i in range(many_jobs):\n",
    "        executor.submit(short_cpu_bound)"
   ]
  },
  {
   "cell_type": "markdown",
   "metadata": {},
   "source": [
    "## Async (Cooperative Parallelism)"
   ]
  },
  {
   "cell_type": "code",
   "execution_count": 30,
   "metadata": {},
   "outputs": [],
   "source": [
    "import asyncio\n",
    "\n",
    "async def cpu_bound(matrix):\n",
    "    \"\"\" Asynchroneous matrix multiplication \"\"\"\n",
    "    return matrix @ matrix\n",
    "    \n",
    "async def long_io_bound():\n",
    "    \"\"\" A long io bound job which runs for 1 s \"\"\"\n",
    "    await asyncio.sleep(1)\n",
    "    \n",
    "async def long_cpu_bound():\n",
    "    \"\"\" A long cpu bound job which runs for a few seconds \"\"\"\n",
    "    matrix = np.random.uniform(size=(90, 90))\n",
    "    for i in range(0, 5000):\n",
    "        matrix = await cpu_bound(matrix)\n",
    "\n",
    "async def short_io_bound():\n",
    "    \"\"\" A short io bound job which runs for 1 ms \"\"\"\n",
    "    await asyncio.sleep(0.001)\n",
    "    \n",
    "async def short_cpu_bound():\n",
    "    \"\"\" A short cpu bound job which runs for a few ms \"\"\"\n",
    "    matrix = np.random.uniform(size=(90, 90))\n",
    "    for i in range(0, 5):\n",
    "        matrix = await cpu_bound(matrix)"
   ]
  },
  {
   "cell_type": "code",
   "execution_count": 31,
   "metadata": {},
   "outputs": [],
   "source": [
    "loop = asyncio.get_event_loop()"
   ]
  },
  {
   "cell_type": "code",
   "execution_count": 32,
   "metadata": {},
   "outputs": [
    {
     "name": "stdout",
     "output_type": "stream",
     "text": [
      "CPU times: user 24 ms, sys: 4 ms, total: 28 ms\n",
      "Wall time: 1.03 s\n"
     ]
    }
   ],
   "source": [
    "%%time\n",
    "jobs = [asyncio.async(long_io_bound()) for i in range(few_jobs)]\n",
    "loop.run_until_complete(asyncio.gather(*jobs))"
   ]
  },
  {
   "cell_type": "code",
   "execution_count": 33,
   "metadata": {},
   "outputs": [
    {
     "name": "stdout",
     "output_type": "stream",
     "text": [
      "CPU times: user 9.72 s, sys: 16 ms, total: 9.74 s\n",
      "Wall time: 10.8 s\n"
     ]
    }
   ],
   "source": [
    "%%time\n",
    "jobs = [asyncio.async(long_cpu_bound()) for i in range(few_jobs)]\n",
    "loop.run_until_complete(asyncio.gather(*jobs))"
   ]
  },
  {
   "cell_type": "code",
   "execution_count": 34,
   "metadata": {},
   "outputs": [
    {
     "name": "stdout",
     "output_type": "stream",
     "text": [
      "CPU times: user 1.11 s, sys: 36 ms, total: 1.14 s\n",
      "Wall time: 1.48 s\n"
     ]
    }
   ],
   "source": [
    "%%time\n",
    "jobs = [asyncio.async(short_io_bound()) for i in range(many_jobs)]\n",
    "loop.run_until_complete(asyncio.gather(*jobs))"
   ]
  },
  {
   "cell_type": "code",
   "execution_count": 35,
   "metadata": {},
   "outputs": [
    {
     "name": "stdout",
     "output_type": "stream",
     "text": [
      "CPU times: user 11.9 s, sys: 8 ms, total: 11.9 s\n",
      "Wall time: 12.6 s\n"
     ]
    }
   ],
   "source": [
    "%%time\n",
    "jobs = [asyncio.async(short_cpu_bound()) for i in range(many_jobs)]\n",
    "loop.run_until_complete(asyncio.gather(*jobs))"
   ]
  }
 ],
 "metadata": {
  "kernelspec": {
   "display_name": "Python 3",
   "language": "python",
   "name": "python3"
  },
  "language_info": {
   "codemirror_mode": {
    "name": "ipython",
    "version": 3
   },
   "file_extension": ".py",
   "mimetype": "text/x-python",
   "name": "python",
   "nbconvert_exporter": "python",
   "pygments_lexer": "ipython3",
   "version": "3.5.3"
  }
 },
 "nbformat": 4,
 "nbformat_minor": 2
}
