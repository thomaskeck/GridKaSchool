{
 "cells": [
  {
   "cell_type": "markdown",
   "metadata": {
    "slideshow": {
     "slide_type": "slide"
    }
   },
   "source": [
    "# Tensorflow"
   ]
  },
  {
   "cell_type": "code",
   "execution_count": 1,
   "metadata": {
    "slideshow": {
     "slide_type": "skip"
    }
   },
   "outputs": [],
   "source": [
    "# In case of multiple GPUs we only use number 1, otherwise we block all of them\n",
    "import os\n",
    "os.environ['CUDA_VISIBLE_DEVICES'] = '1'\n",
    "\n",
    "%matplotlib inline\n",
    "\n",
    "import numpy as np\n",
    "import matplotlib.pyplot as plt\n",
    "np.set_printoptions(precision=2, suppress=True)\n",
    "\n",
    "import collections\n",
    "\n",
    "class TensorflowGraphToDot:\n",
    "    def __init__(self, op, suppressed_nodes = ['gradients']):\n",
    "        from graphviz import Digraph\n",
    "        self.dot = Digraph()\n",
    "        self.nodes = collections.OrderedDict()\n",
    "        import tensorflow.contrib.graph_editor as ge\n",
    "        for node in ge.get_backward_walk_ops(op):\n",
    "            self.nodes[node.node_def.name] = node.node_def.input\n",
    "        self.suppressed_nodes = suppressed_nodes\n",
    "        for node_name in self.nodes:\n",
    "            self.draw_node(node_name)\n",
    "            for input_node in self.nodes[node_name]:\n",
    "                self.draw_edge(input_node, node_name)\n",
    "            \n",
    "    def is_suppressed(self, node_name):\n",
    "        return any([s in node_name for s in self.suppressed_nodes])\n",
    "\n",
    "    def draw_edge(self, from_node_name, to_node_name):\n",
    "        if self.is_suppressed(from_node_name):\n",
    "            if from_node_name in self.nodes:\n",
    "                for next_node_name in self.nodes[from_node_name]:\n",
    "                    self.draw_edge(next_node_name, to_node_name)\n",
    "        else:\n",
    "            if not self.is_suppressed(to_node_name):\n",
    "                self.dot.edge(from_node_name, to_node_name)\n",
    "\n",
    "    def draw_node(self, node_name):\n",
    "        if not self.is_suppressed(node_name):       \n",
    "            self.dot.node(node_name, label=node_name)\n",
    "            \n",
    "    def _repr_svg_(self):\n",
    "        return self.dot._repr_svg_()\n",
    "\n",
    "class NumpyToLatex:\n",
    "    def __init__(self, expression, dictionary=None):\n",
    "        if dictionary is None:\n",
    "            dictionary = globals()\n",
    "        latex = ''\n",
    "        for x in expression.split():\n",
    "            if x in dictionary:\n",
    "                if isinstance(dictionary[x], np.ndarray):\n",
    "                    latex += ' ' + self.ndarray_to_latex(dictionary[x])\n",
    "                else:\n",
    "                    latex += ' ' + self.number_to_latex(dictionary[x])\n",
    "            else:\n",
    "                latex += ' ' + str(x)\n",
    "        from IPython.display import Math\n",
    "        self.display = Math(latex)\n",
    "        \n",
    "    def ndarray_to_latex(self, ndarray):\n",
    "        lines = str(ndarray).replace('[', '').replace(']', '').splitlines()\n",
    "        x = [r'\\begin{bmatrix}']\n",
    "        x += ['  ' + ' & '.join(l.split()) + r'\\\\' for l in lines]\n",
    "        x += [r'\\end{bmatrix}']\n",
    "        return '\\n'.join(x)\n",
    "    \n",
    "    def number_to_latex(self, number):\n",
    "        return \"{:.2f}\".format(number)\n",
    "    \n",
    "    def _repr_latex_(self):\n",
    "        return self.display._repr_latex_()"
   ]
  },
  {
   "cell_type": "markdown",
   "metadata": {
    "slideshow": {
     "slide_type": "subslide"
    }
   },
   "source": [
    "## Numpy\n",
    "\n",
    "Numeric calculations are done immediately.\n",
    "Let's consider a simple **linear regression** problem.\n",
    "\n",
    "$$ y = \\beta \\cdot x + \\epsilon $$\n",
    "\n",
    "or in **n dimensions**\n",
    "\n",
    "$$ \\vec{y} = X \\cdot \\vec{\\beta} + \\epsilon $$\n",
    "\n",
    "We did 5 measurements of $y$, while changing $x$."
   ]
  },
  {
   "cell_type": "code",
   "execution_count": 2,
   "metadata": {
    "slideshow": {
     "slide_type": "-"
    }
   },
   "outputs": [
    {
     "data": {
      "text/plain": [
       "<matplotlib.collections.PathCollection at 0x7f0160c52d30>"
      ]
     },
     "execution_count": 2,
     "metadata": {},
     "output_type": "execute_result"
    },
    {
     "data": {
      "image/png": "[encoded data removed]",
      "text/plain": [
       "<matplotlib.figure.Figure at 0x7f018456dc88>"
      ]
     },
     "metadata": {},
     "output_type": "display_data"
    }
   ],
   "source": [
    "β = np.array([[1.0]]).T\n",
    "X = np.array([[1.0, 2.0, 3.0, 4.0, 5.0]]).T\n",
    "y = np.array([[1.6, 2.5, 3.2, 3.7, 4.5]]).T\n",
    "plt.plot(X, X @ β)\n",
    "plt.scatter(X, y)"
   ]
  },
  {
   "cell_type": "markdown",
   "metadata": {},
   "source": [
    "##  Least square solution\n",
    "\n",
    "We want to find the **optimal** parameters $\\beta$ such that the squared deviations are minimized:\n",
    "\n",
    "$$ \\mathcal{L}_2 = |X \\cdot \\vec{\\beta} - y|^2 $$"
   ]
  },
  {
   "cell_type": "code",
   "execution_count": 3,
   "metadata": {},
   "outputs": [
    {
     "data": {
      "text/latex": [
       "$$ \\left| \\begin{bmatrix}\n",
       "  1.\\\\\n",
       "  2.\\\\\n",
       "  3.\\\\\n",
       "  4.\\\\\n",
       "  5.\\\\\n",
       "\\end{bmatrix} @ \\begin{bmatrix}\n",
       "  1.\\\\\n",
       "\\end{bmatrix} - \\begin{bmatrix}\n",
       "  1.6\\\\\n",
       "  2.5\\\\\n",
       "  3.2\\\\\n",
       "  3.7\\\\\n",
       "  4.5\\\\\n",
       "\\end{bmatrix} \\right|^2 = 0.99$$"
      ],
      "text/plain": [
       "<__main__.NumpyToLatex at 0x7f01844e5908>"
      ]
     },
     "execution_count": 3,
     "metadata": {},
     "output_type": "execute_result"
    }
   ],
   "source": [
    "deviation = X @ β - y\n",
    "L2 = np.sum(deviation**2)\n",
    "NumpyToLatex(r\"\\left| X @ β - y \\right|^2 = L2\")"
   ]
  },
  {
   "cell_type": "markdown",
   "metadata": {
    "slideshow": {
     "slide_type": "subslide"
    }
   },
   "source": [
    "## Tensorflow Graph\n",
    "\n",
    "Numeric calculations are expressed as a symbolic graph"
   ]
  },
  {
   "cell_type": "code",
   "execution_count": 4,
   "metadata": {},
   "outputs": [],
   "source": [
    "import tensorflow as tf\n",
    "β_symbol = tf.constant(β, name='beta')\n",
    "X_symbol = tf.constant(X, name='X')\n",
    "y_symbol = tf.constant(y, name='y')"
   ]
  },
  {
   "cell_type": "code",
   "execution_count": 5,
   "metadata": {},
   "outputs": [
    {
     "data": {
      "image/svg+xml": [
       "<?xml version=\"1.0\" encoding=\"UTF-8\" standalone=\"no\"?>\n",
       "<!DOCTYPE svg PUBLIC \"-//W3C//DTD SVG 1.1//EN\"\n",
       " \"http://www.w3.org/Graphics/SVG/1.1/DTD/svg11.dtd\">\n",
       "<!-- Generated by graphviz version 2.38.0 (20140413.2041)\n",
       " -->\n",
       "<!-- Title: %3 Pages: 1 -->\n",
       "<svg width=\"257pt\" height=\"332pt\"\n",
       " viewBox=\"0.00 0.00 257.20 332.00\" xmlns=\"http://www.w3.org/2000/svg\" xmlns:xlink=\"http://www.w3.org/1999/xlink\">\n",
       "<g id=\"graph0\" class=\"graph\" transform=\"scale(1 1) rotate(0) translate(4 328)\">\n",
       "<title>%3</title>\n",
       "<polygon fill=\"white\" stroke=\"none\" points=\"-4,4 -4,-328 253.197,-328 253.197,4 -4,4\"/>\n",
       "<!-- Sum -->\n",
       "<g id=\"node1\" class=\"node\"><title>Sum</title>\n",
       "<ellipse fill=\"none\" stroke=\"black\" cx=\"180\" cy=\"-18\" rx=\"27.0966\" ry=\"18\"/>\n",
       "<text text-anchor=\"middle\" x=\"180\" y=\"-14.3\" font-family=\"Times,serif\" font-size=\"14.00\">Sum</text>\n",
       "</g>\n",
       "<!-- pow -->\n",
       "<g id=\"node2\" class=\"node\"><title>pow</title>\n",
       "<ellipse fill=\"none\" stroke=\"black\" cx=\"142\" cy=\"-90\" rx=\"27\" ry=\"18\"/>\n",
       "<text text-anchor=\"middle\" x=\"142\" y=\"-86.3\" font-family=\"Times,serif\" font-size=\"14.00\">pow</text>\n",
       "</g>\n",
       "<!-- pow&#45;&gt;Sum -->\n",
       "<g id=\"edge1\" class=\"edge\"><title>pow&#45;&gt;Sum</title>\n",
       "<path fill=\"none\" stroke=\"black\" d=\"M150.813,-72.7646C155.418,-64.2831 161.155,-53.7144 166.321,-44.1974\"/>\n",
       "<polygon fill=\"black\" stroke=\"black\" points=\"169.539,-45.6057 171.234,-35.1473 163.387,-42.266 169.539,-45.6057\"/>\n",
       "</g>\n",
       "<!-- Const -->\n",
       "<g id=\"node3\" class=\"node\"><title>Const</title>\n",
       "<ellipse fill=\"none\" stroke=\"black\" cx=\"218\" cy=\"-90\" rx=\"31.3957\" ry=\"18\"/>\n",
       "<text text-anchor=\"middle\" x=\"218\" y=\"-86.3\" font-family=\"Times,serif\" font-size=\"14.00\">Const</text>\n",
       "</g>\n",
       "<!-- Const&#45;&gt;Sum -->\n",
       "<g id=\"edge2\" class=\"edge\"><title>Const&#45;&gt;Sum</title>\n",
       "<path fill=\"none\" stroke=\"black\" d=\"M208.995,-72.411C204.451,-64.0421 198.842,-53.7098 193.772,-44.3698\"/>\n",
       "<polygon fill=\"black\" stroke=\"black\" points=\"196.788,-42.5887 188.941,-35.4699 190.636,-45.9283 196.788,-42.5887\"/>\n",
       "</g>\n",
       "<!-- sub -->\n",
       "<g id=\"node4\" class=\"node\"><title>sub</title>\n",
       "<ellipse fill=\"none\" stroke=\"black\" cx=\"104\" cy=\"-162\" rx=\"27\" ry=\"18\"/>\n",
       "<text text-anchor=\"middle\" x=\"104\" y=\"-158.3\" font-family=\"Times,serif\" font-size=\"14.00\">sub</text>\n",
       "</g>\n",
       "<!-- sub&#45;&gt;pow -->\n",
       "<g id=\"edge3\" class=\"edge\"><title>sub&#45;&gt;pow</title>\n",
       "<path fill=\"none\" stroke=\"black\" d=\"M112.813,-144.765C117.418,-136.283 123.155,-125.714 128.321,-116.197\"/>\n",
       "<polygon fill=\"black\" stroke=\"black\" points=\"131.539,-117.606 133.234,-107.147 125.387,-114.266 131.539,-117.606\"/>\n",
       "</g>\n",
       "<!-- pow/y -->\n",
       "<g id=\"node5\" class=\"node\"><title>pow/y</title>\n",
       "<ellipse fill=\"none\" stroke=\"black\" cx=\"181\" cy=\"-162\" rx=\"32.4942\" ry=\"18\"/>\n",
       "<text text-anchor=\"middle\" x=\"181\" y=\"-158.3\" font-family=\"Times,serif\" font-size=\"14.00\">pow/y</text>\n",
       "</g>\n",
       "<!-- pow/y&#45;&gt;pow -->\n",
       "<g id=\"edge4\" class=\"edge\"><title>pow/y&#45;&gt;pow</title>\n",
       "<path fill=\"none\" stroke=\"black\" d=\"M171.758,-144.411C167.095,-136.042 161.338,-125.71 156.135,-116.37\"/>\n",
       "<polygon fill=\"black\" stroke=\"black\" points=\"159.101,-114.502 151.176,-107.47 152.986,-117.909 159.101,-114.502\"/>\n",
       "</g>\n",
       "<!-- matmul -->\n",
       "<g id=\"node6\" class=\"node\"><title>matmul</title>\n",
       "<ellipse fill=\"none\" stroke=\"black\" cx=\"63\" cy=\"-234\" rx=\"38.1938\" ry=\"18\"/>\n",
       "<text text-anchor=\"middle\" x=\"63\" y=\"-230.3\" font-family=\"Times,serif\" font-size=\"14.00\">matmul</text>\n",
       "</g>\n",
       "<!-- matmul&#45;&gt;sub -->\n",
       "<g id=\"edge5\" class=\"edge\"><title>matmul&#45;&gt;sub</title>\n",
       "<path fill=\"none\" stroke=\"black\" d=\"M72.7164,-216.411C77.7411,-207.832 83.974,-197.191 89.5507,-187.67\"/>\n",
       "<polygon fill=\"black\" stroke=\"black\" points=\"92.6016,-189.386 94.6355,-178.988 86.5614,-185.848 92.6016,-189.386\"/>\n",
       "</g>\n",
       "<!-- y -->\n",
       "<g id=\"node7\" class=\"node\"><title>y</title>\n",
       "<ellipse fill=\"none\" stroke=\"black\" cx=\"146\" cy=\"-234\" rx=\"27\" ry=\"18\"/>\n",
       "<text text-anchor=\"middle\" x=\"146\" y=\"-230.3\" font-family=\"Times,serif\" font-size=\"14.00\">y</text>\n",
       "</g>\n",
       "<!-- y&#45;&gt;sub -->\n",
       "<g id=\"edge6\" class=\"edge\"><title>y&#45;&gt;sub</title>\n",
       "<path fill=\"none\" stroke=\"black\" d=\"M136.47,-217.116C131.334,-208.557 124.878,-197.797 119.079,-188.132\"/>\n",
       "<polygon fill=\"black\" stroke=\"black\" points=\"121.93,-186.081 113.784,-179.307 115.928,-189.683 121.93,-186.081\"/>\n",
       "</g>\n",
       "<!-- X -->\n",
       "<g id=\"node8\" class=\"node\"><title>X</title>\n",
       "<ellipse fill=\"none\" stroke=\"black\" cx=\"27\" cy=\"-306\" rx=\"27\" ry=\"18\"/>\n",
       "<text text-anchor=\"middle\" x=\"27\" y=\"-302.3\" font-family=\"Times,serif\" font-size=\"14.00\">X</text>\n",
       "</g>\n",
       "<!-- X&#45;&gt;matmul -->\n",
       "<g id=\"edge7\" class=\"edge\"><title>X&#45;&gt;matmul</title>\n",
       "<path fill=\"none\" stroke=\"black\" d=\"M35.3496,-288.765C39.6492,-280.404 44.9918,-270.016 49.8312,-260.606\"/>\n",
       "<polygon fill=\"black\" stroke=\"black\" points=\"52.9847,-262.127 54.4457,-251.633 46.7596,-258.926 52.9847,-262.127\"/>\n",
       "</g>\n",
       "<!-- beta -->\n",
       "<g id=\"node9\" class=\"node\"><title>beta</title>\n",
       "<ellipse fill=\"none\" stroke=\"black\" cx=\"99\" cy=\"-306\" rx=\"27\" ry=\"18\"/>\n",
       "<text text-anchor=\"middle\" x=\"99\" y=\"-302.3\" font-family=\"Times,serif\" font-size=\"14.00\">beta</text>\n",
       "</g>\n",
       "<!-- beta&#45;&gt;matmul -->\n",
       "<g id=\"edge8\" class=\"edge\"><title>beta&#45;&gt;matmul</title>\n",
       "<path fill=\"none\" stroke=\"black\" d=\"M90.6504,-288.765C86.3508,-280.404 81.0082,-270.016 76.1688,-260.606\"/>\n",
       "<polygon fill=\"black\" stroke=\"black\" points=\"79.2404,-258.926 71.5543,-251.633 73.0153,-262.127 79.2404,-258.926\"/>\n",
       "</g>\n",
       "</g>\n",
       "</svg>\n"
      ],
      "text/plain": [
       "<__main__.TensorflowGraphToDot at 0x7f014ee6a390>"
      ]
     },
     "execution_count": 5,
     "metadata": {},
     "output_type": "execute_result"
    }
   ],
   "source": [
    "deviation_symbol = X_symbol @ β_symbol - y_symbol\n",
    "L2_symbol = tf.reduce_sum(deviation_symbol**2)\n",
    "TensorflowGraphToDot(L2_symbol)"
   ]
  },
  {
   "cell_type": "markdown",
   "metadata": {
    "slideshow": {
     "slide_type": "subslide"
    }
   },
   "source": [
    "## Tensorflow Session\n",
    "\n",
    "A graph can be executed on different devices (CPUs, GPUs, Distributed, ...).\n",
    "The tensorflow session can be configured accordingly."
   ]
  },
  {
   "cell_type": "code",
   "execution_count": 6,
   "metadata": {
    "collapsed": true,
    "slideshow": {
     "slide_type": "-"
    }
   },
   "outputs": [],
   "source": [
    "session = tf.Session()"
   ]
  },
  {
   "cell_type": "code",
   "execution_count": 7,
   "metadata": {},
   "outputs": [
    {
     "data": {
      "text/latex": [
       "$$ \\left| \\begin{bmatrix}\n",
       "  1.\\\\\n",
       "  2.\\\\\n",
       "  3.\\\\\n",
       "  4.\\\\\n",
       "  5.\\\\\n",
       "\\end{bmatrix} @ \\begin{bmatrix}\n",
       "  1.\\\\\n",
       "\\end{bmatrix} - \\begin{bmatrix}\n",
       "  1.6\\\\\n",
       "  2.5\\\\\n",
       "  3.2\\\\\n",
       "  3.7\\\\\n",
       "  4.5\\\\\n",
       "\\end{bmatrix} \\right|^2 = 0.99$$"
      ],
      "text/plain": [
       "<__main__.NumpyToLatex at 0x7f014ee6a860>"
      ]
     },
     "execution_count": 7,
     "metadata": {},
     "output_type": "execute_result"
    }
   ],
   "source": [
    "L2 = session.run(L2_symbol)\n",
    "NumpyToLatex(r\"\\left| X @ β - y \\right|^2 = L2\")"
   ]
  },
  {
   "cell_type": "markdown",
   "metadata": {
    "slideshow": {
     "slide_type": "slide"
    }
   },
   "source": [
    "## Automatic Differentiation\n",
    "\n",
    "Tensorflow can automatically differentiate a graph with respect to one of its constituents and calculate gradients"
   ]
  },
  {
   "cell_type": "code",
   "execution_count": 8,
   "metadata": {},
   "outputs": [
    {
     "data": {
      "image/svg+xml": [
       "<?xml version=\"1.0\" encoding=\"UTF-8\" standalone=\"no\"?>\n",
       "<!DOCTYPE svg PUBLIC \"-//W3C//DTD SVG 1.1//EN\"\n",
       " \"http://www.w3.org/Graphics/SVG/1.1/DTD/svg11.dtd\">\n",
       "<!-- Generated by graphviz version 2.38.0 (20140413.2041)\n",
       " -->\n",
       "<!-- Title: %3 Pages: 1 -->\n",
       "<svg width=\"216pt\" height=\"188pt\"\n",
       " viewBox=\"0.00 0.00 216.50 188.00\" xmlns=\"http://www.w3.org/2000/svg\" xmlns:xlink=\"http://www.w3.org/1999/xlink\">\n",
       "<g id=\"graph0\" class=\"graph\" transform=\"scale(1 1) rotate(0) translate(4 184)\">\n",
       "<title>%3</title>\n",
       "<polygon fill=\"white\" stroke=\"none\" points=\"-4,4 -4,-184 212.497,-184 212.497,4 -4,4\"/>\n",
       "<!-- X -->\n",
       "<g id=\"node1\" class=\"node\"><title>X</title>\n",
       "<ellipse fill=\"none\" stroke=\"black\" cx=\"27\" cy=\"-162\" rx=\"27\" ry=\"18\"/>\n",
       "<text text-anchor=\"middle\" x=\"27\" y=\"-158.3\" font-family=\"Times,serif\" font-size=\"14.00\">X</text>\n",
       "</g>\n",
       "<!-- matmul -->\n",
       "<g id=\"node4\" class=\"node\"><title>matmul</title>\n",
       "<ellipse fill=\"none\" stroke=\"black\" cx=\"63\" cy=\"-90\" rx=\"38.1938\" ry=\"18\"/>\n",
       "<text text-anchor=\"middle\" x=\"63\" y=\"-86.3\" font-family=\"Times,serif\" font-size=\"14.00\">matmul</text>\n",
       "</g>\n",
       "<!-- X&#45;&gt;matmul -->\n",
       "<g id=\"edge3\" class=\"edge\"><title>X&#45;&gt;matmul</title>\n",
       "<path fill=\"none\" stroke=\"black\" d=\"M35.3496,-144.765C39.6492,-136.404 44.9918,-126.016 49.8312,-116.606\"/>\n",
       "<polygon fill=\"black\" stroke=\"black\" points=\"52.9847,-118.127 54.4457,-107.633 46.7596,-114.926 52.9847,-118.127\"/>\n",
       "</g>\n",
       "<!-- pow/y -->\n",
       "<g id=\"node2\" class=\"node\"><title>pow/y</title>\n",
       "<ellipse fill=\"none\" stroke=\"black\" cx=\"176\" cy=\"-162\" rx=\"32.4942\" ry=\"18\"/>\n",
       "<text text-anchor=\"middle\" x=\"176\" y=\"-158.3\" font-family=\"Times,serif\" font-size=\"14.00\">pow/y</text>\n",
       "</g>\n",
       "<!-- sub -->\n",
       "<g id=\"node3\" class=\"node\"><title>sub</title>\n",
       "<ellipse fill=\"none\" stroke=\"black\" cx=\"104\" cy=\"-18\" rx=\"27\" ry=\"18\"/>\n",
       "<text text-anchor=\"middle\" x=\"104\" y=\"-14.3\" font-family=\"Times,serif\" font-size=\"14.00\">sub</text>\n",
       "</g>\n",
       "<!-- matmul&#45;&gt;sub -->\n",
       "<g id=\"edge1\" class=\"edge\"><title>matmul&#45;&gt;sub</title>\n",
       "<path fill=\"none\" stroke=\"black\" d=\"M72.7164,-72.411C77.7411,-63.8323 83.974,-53.1908 89.5507,-43.6695\"/>\n",
       "<polygon fill=\"black\" stroke=\"black\" points=\"92.6016,-45.3859 94.6355,-34.9881 86.5614,-41.848 92.6016,-45.3859\"/>\n",
       "</g>\n",
       "<!-- y -->\n",
       "<g id=\"node5\" class=\"node\"><title>y</title>\n",
       "<ellipse fill=\"none\" stroke=\"black\" cx=\"146\" cy=\"-90\" rx=\"27\" ry=\"18\"/>\n",
       "<text text-anchor=\"middle\" x=\"146\" y=\"-86.3\" font-family=\"Times,serif\" font-size=\"14.00\">y</text>\n",
       "</g>\n",
       "<!-- y&#45;&gt;sub -->\n",
       "<g id=\"edge2\" class=\"edge\"><title>y&#45;&gt;sub</title>\n",
       "<path fill=\"none\" stroke=\"black\" d=\"M136.47,-73.1159C131.334,-64.5567 124.878,-53.7974 119.079,-44.1316\"/>\n",
       "<polygon fill=\"black\" stroke=\"black\" points=\"121.93,-42.0812 113.784,-35.307 115.928,-45.6827 121.93,-42.0812\"/>\n",
       "</g>\n",
       "<!-- beta -->\n",
       "<g id=\"node6\" class=\"node\"><title>beta</title>\n",
       "<ellipse fill=\"none\" stroke=\"black\" cx=\"99\" cy=\"-162\" rx=\"27\" ry=\"18\"/>\n",
       "<text text-anchor=\"middle\" x=\"99\" y=\"-158.3\" font-family=\"Times,serif\" font-size=\"14.00\">beta</text>\n",
       "</g>\n",
       "<!-- beta&#45;&gt;matmul -->\n",
       "<g id=\"edge4\" class=\"edge\"><title>beta&#45;&gt;matmul</title>\n",
       "<path fill=\"none\" stroke=\"black\" d=\"M90.6504,-144.765C86.3508,-136.404 81.0082,-126.016 76.1688,-116.606\"/>\n",
       "<polygon fill=\"black\" stroke=\"black\" points=\"79.2404,-114.926 71.5543,-107.633 73.0153,-118.127 79.2404,-114.926\"/>\n",
       "</g>\n",
       "</g>\n",
       "</svg>\n"
      ],
      "text/plain": [
       "<__main__.TensorflowGraphToDot at 0x7f014b985ba8>"
      ]
     },
     "execution_count": 8,
     "metadata": {},
     "output_type": "execute_result"
    }
   ],
   "source": [
    "partial_derivative_symbol = tf.gradients(L2_symbol, β_symbol)\n",
    "TensorflowGraphToDot(partial_derivative_symbol)"
   ]
  },
  {
   "cell_type": "code",
   "execution_count": 9,
   "metadata": {},
   "outputs": [
    {
     "data": {
      "text/latex": [
       "$$ \\frac{\\partial \\mathcal{L}_2}{\\partial \\beta} = \\begin{bmatrix}\n",
       "  3.\\\\\n",
       "\\end{bmatrix}$$"
      ],
      "text/plain": [
       "<__main__.NumpyToLatex at 0x7f014a13c9b0>"
      ]
     },
     "execution_count": 9,
     "metadata": {},
     "output_type": "execute_result"
    }
   ],
   "source": [
    "partial_derivative, = session.run(partial_derivative_symbol)\n",
    "NumpyToLatex(r'\\frac{\\partial \\mathcal{L}_2}{\\partial \\beta} = partial_derivative')"
   ]
  },
  {
   "cell_type": "markdown",
   "metadata": {
    "slideshow": {
     "slide_type": "subslide"
    }
   },
   "source": [
    "## Placeholders\n",
    "\n",
    "Instead of assigning to each symbol explicit values, we can put in some placeholders."
   ]
  },
  {
   "cell_type": "code",
   "execution_count": 10,
   "metadata": {
    "slideshow": {
     "slide_type": "-"
    }
   },
   "outputs": [],
   "source": [
    "β_symbol = tf.placeholder(dtype=tf.float64, shape=[1, None], name='beta')"
   ]
  },
  {
   "cell_type": "code",
   "execution_count": 11,
   "metadata": {},
   "outputs": [
    {
     "data": {
      "image/svg+xml": [
       "<?xml version=\"1.0\" encoding=\"UTF-8\" standalone=\"no\"?>\n",
       "<!DOCTYPE svg PUBLIC \"-//W3C//DTD SVG 1.1//EN\"\n",
       " \"http://www.w3.org/Graphics/SVG/1.1/DTD/svg11.dtd\">\n",
       "<!-- Generated by graphviz version 2.38.0 (20140413.2041)\n",
       " -->\n",
       "<!-- Title: %3 Pages: 1 -->\n",
       "<svg width=\"419pt\" height=\"332pt\"\n",
       " viewBox=\"0.00 0.00 418.74 332.00\" xmlns=\"http://www.w3.org/2000/svg\" xmlns:xlink=\"http://www.w3.org/1999/xlink\">\n",
       "<g id=\"graph0\" class=\"graph\" transform=\"scale(1 1) rotate(0) translate(4 328)\">\n",
       "<title>%3</title>\n",
       "<polygon fill=\"white\" stroke=\"none\" points=\"-4,4 -4,-328 414.741,-328 414.741,4 -4,4\"/>\n",
       "<!-- Sum_1 -->\n",
       "<g id=\"node1\" class=\"node\"><title>Sum_1</title>\n",
       "<ellipse fill=\"none\" stroke=\"black\" cx=\"233\" cy=\"-18\" rx=\"36.2938\" ry=\"18\"/>\n",
       "<text text-anchor=\"middle\" x=\"233\" y=\"-14.3\" font-family=\"Times,serif\" font-size=\"14.00\">Sum_1</text>\n",
       "</g>\n",
       "<!-- pow_1 -->\n",
       "<g id=\"node2\" class=\"node\"><title>pow_1</title>\n",
       "<ellipse fill=\"none\" stroke=\"black\" cx=\"157\" cy=\"-90\" rx=\"34.394\" ry=\"18\"/>\n",
       "<text text-anchor=\"middle\" x=\"157\" y=\"-86.3\" font-family=\"Times,serif\" font-size=\"14.00\">pow_1</text>\n",
       "</g>\n",
       "<!-- pow_1&#45;&gt;Sum_1 -->\n",
       "<g id=\"edge1\" class=\"edge\"><title>pow_1&#45;&gt;Sum_1</title>\n",
       "<path fill=\"none\" stroke=\"black\" d=\"M173.491,-73.811C183.848,-64.2712 197.385,-51.8035 208.93,-41.1697\"/>\n",
       "<polygon fill=\"black\" stroke=\"black\" points=\"211.557,-43.5085 216.541,-34.1593 206.815,-38.3597 211.557,-43.5085\"/>\n",
       "</g>\n",
       "<!-- Sum_1/reduction_indices -->\n",
       "<g id=\"node3\" class=\"node\"><title>Sum_1/reduction_indices</title>\n",
       "<ellipse fill=\"none\" stroke=\"black\" cx=\"310\" cy=\"-90\" rx=\"100.983\" ry=\"18\"/>\n",
       "<text text-anchor=\"middle\" x=\"310\" y=\"-86.3\" font-family=\"Times,serif\" font-size=\"14.00\">Sum_1/reduction_indices</text>\n",
       "</g>\n",
       "<!-- Sum_1/reduction_indices&#45;&gt;Sum_1 -->\n",
       "<g id=\"edge2\" class=\"edge\"><title>Sum_1/reduction_indices&#45;&gt;Sum_1</title>\n",
       "<path fill=\"none\" stroke=\"black\" d=\"M291.36,-72.055C281.117,-62.7429 268.291,-51.0828 257.274,-41.067\"/>\n",
       "<polygon fill=\"black\" stroke=\"black\" points=\"259.388,-38.2586 249.634,-34.1216 254.679,-43.4382 259.388,-38.2586\"/>\n",
       "</g>\n",
       "<!-- sub_1 -->\n",
       "<g id=\"node4\" class=\"node\"><title>sub_1</title>\n",
       "<ellipse fill=\"none\" stroke=\"black\" cx=\"112\" cy=\"-162\" rx=\"31.6951\" ry=\"18\"/>\n",
       "<text text-anchor=\"middle\" x=\"112\" y=\"-158.3\" font-family=\"Times,serif\" font-size=\"14.00\">sub_1</text>\n",
       "</g>\n",
       "<!-- sub_1&#45;&gt;pow_1 -->\n",
       "<g id=\"edge3\" class=\"edge\"><title>sub_1&#45;&gt;pow_1</title>\n",
       "<path fill=\"none\" stroke=\"black\" d=\"M122.437,-144.765C127.867,-136.317 134.629,-125.799 140.728,-116.312\"/>\n",
       "<polygon fill=\"black\" stroke=\"black\" points=\"143.844,-117.938 146.307,-107.633 137.955,-114.153 143.844,-117.938\"/>\n",
       "</g>\n",
       "<!-- pow_1/y -->\n",
       "<g id=\"node5\" class=\"node\"><title>pow_1/y</title>\n",
       "<ellipse fill=\"none\" stroke=\"black\" cx=\"203\" cy=\"-162\" rx=\"41.6928\" ry=\"18\"/>\n",
       "<text text-anchor=\"middle\" x=\"203\" y=\"-158.3\" font-family=\"Times,serif\" font-size=\"14.00\">pow_1/y</text>\n",
       "</g>\n",
       "<!-- pow_1/y&#45;&gt;pow_1 -->\n",
       "<g id=\"edge4\" class=\"edge\"><title>pow_1/y&#45;&gt;pow_1</title>\n",
       "<path fill=\"none\" stroke=\"black\" d=\"M192.099,-144.411C186.542,-135.955 179.668,-125.494 173.48,-116.078\"/>\n",
       "<polygon fill=\"black\" stroke=\"black\" points=\"176.24,-113.905 167.823,-107.47 170.39,-117.749 176.24,-113.905\"/>\n",
       "</g>\n",
       "<!-- matmul_1 -->\n",
       "<g id=\"node6\" class=\"node\"><title>matmul_1</title>\n",
       "<ellipse fill=\"none\" stroke=\"black\" cx=\"66\" cy=\"-234\" rx=\"47.3916\" ry=\"18\"/>\n",
       "<text text-anchor=\"middle\" x=\"66\" y=\"-230.3\" font-family=\"Times,serif\" font-size=\"14.00\">matmul_1</text>\n",
       "</g>\n",
       "<!-- matmul_1&#45;&gt;sub_1 -->\n",
       "<g id=\"edge5\" class=\"edge\"><title>matmul_1&#45;&gt;sub_1</title>\n",
       "<path fill=\"none\" stroke=\"black\" d=\"M76.9014,-216.411C82.4582,-207.955 89.3323,-197.494 95.52,-188.078\"/>\n",
       "<polygon fill=\"black\" stroke=\"black\" points=\"98.61,-189.749 101.177,-179.47 92.7601,-185.905 98.61,-189.749\"/>\n",
       "</g>\n",
       "<!-- y -->\n",
       "<g id=\"node7\" class=\"node\"><title>y</title>\n",
       "<ellipse fill=\"none\" stroke=\"black\" cx=\"158\" cy=\"-234\" rx=\"27\" ry=\"18\"/>\n",
       "<text text-anchor=\"middle\" x=\"158\" y=\"-230.3\" font-family=\"Times,serif\" font-size=\"14.00\">y</text>\n",
       "</g>\n",
       "<!-- y&#45;&gt;sub_1 -->\n",
       "<g id=\"edge6\" class=\"edge\"><title>y&#45;&gt;sub_1</title>\n",
       "<path fill=\"none\" stroke=\"black\" d=\"M147.562,-217.116C141.879,-208.469 134.721,-197.575 128.319,-187.833\"/>\n",
       "<polygon fill=\"black\" stroke=\"black\" points=\"131.133,-185.742 122.716,-179.307 125.283,-189.586 131.133,-185.742\"/>\n",
       "</g>\n",
       "<!-- X -->\n",
       "<g id=\"node8\" class=\"node\"><title>X</title>\n",
       "<ellipse fill=\"none\" stroke=\"black\" cx=\"27\" cy=\"-306\" rx=\"27\" ry=\"18\"/>\n",
       "<text text-anchor=\"middle\" x=\"27\" y=\"-302.3\" font-family=\"Times,serif\" font-size=\"14.00\">X</text>\n",
       "</g>\n",
       "<!-- X&#45;&gt;matmul_1 -->\n",
       "<g id=\"edge7\" class=\"edge\"><title>X&#45;&gt;matmul_1</title>\n",
       "<path fill=\"none\" stroke=\"black\" d=\"M36.0454,-288.765C40.6358,-280.525 46.3236,-270.317 51.5056,-261.016\"/>\n",
       "<polygon fill=\"black\" stroke=\"black\" points=\"54.6499,-262.563 56.4595,-252.124 48.535,-259.156 54.6499,-262.563\"/>\n",
       "</g>\n",
       "<!-- beta_1 -->\n",
       "<g id=\"node9\" class=\"node\"><title>beta_1</title>\n",
       "<ellipse fill=\"none\" stroke=\"black\" cx=\"106\" cy=\"-306\" rx=\"34.394\" ry=\"18\"/>\n",
       "<text text-anchor=\"middle\" x=\"106\" y=\"-302.3\" font-family=\"Times,serif\" font-size=\"14.00\">beta_1</text>\n",
       "</g>\n",
       "<!-- beta_1&#45;&gt;matmul_1 -->\n",
       "<g id=\"edge8\" class=\"edge\"><title>beta_1&#45;&gt;matmul_1</title>\n",
       "<path fill=\"none\" stroke=\"black\" d=\"M96.5206,-288.411C91.8076,-280.163 86.0051,-270.009 80.7294,-260.777\"/>\n",
       "<polygon fill=\"black\" stroke=\"black\" points=\"83.6896,-258.902 75.6893,-251.956 77.6118,-262.375 83.6896,-258.902\"/>\n",
       "</g>\n",
       "</g>\n",
       "</svg>\n"
      ],
      "text/plain": [
       "<__main__.TensorflowGraphToDot at 0x7f014a13ce10>"
      ]
     },
     "execution_count": 11,
     "metadata": {},
     "output_type": "execute_result"
    }
   ],
   "source": [
    "deviation_symbol = X_symbol @ β_symbol - y_symbol\n",
    "L2_symbol = tf.reduce_sum(deviation_symbol**2, axis=0)\n",
    "TensorflowGraphToDot(L2_symbol)"
   ]
  },
  {
   "cell_type": "code",
   "execution_count": 12,
   "metadata": {},
   "outputs": [
    {
     "data": {
      "text/plain": [
       "[<matplotlib.lines.Line2D at 0x7f014a0fa048>]"
      ]
     },
     "execution_count": 12,
     "metadata": {},
     "output_type": "execute_result"
    },
    {
     "data": {
      "image/png": "[encoded data removed]",
      "text/plain": [
       "<matplotlib.figure.Figure at 0x7f014ee6ad30>"
      ]
     },
     "metadata": {},
     "output_type": "display_data"
    }
   ],
   "source": [
    "β = np.linspace(0.0, 2.0, 100).reshape((1,100))\n",
    "L2 = session.run(L2_symbol, feed_dict={β_symbol: β})\n",
    "plt.plot(β[0], L2)"
   ]
  },
  {
   "cell_type": "code",
   "execution_count": 13,
   "metadata": {},
   "outputs": [
    {
     "data": {
      "text/plain": [
       "'The optimal β is 0.97'"
      ]
     },
     "execution_count": 13,
     "metadata": {},
     "output_type": "execute_result"
    }
   ],
   "source": [
    "\"The optimal β is {:.2f}\".format(β[0, L2.argmin()])"
   ]
  },
  {
   "cell_type": "markdown",
   "metadata": {},
   "source": [
    "## Gradient Descent\n",
    "\n",
    "We can improve this by evaluating the $\\mathcal{L}_2$ loss multiple times while adapting the parameters $\\beta$.\n",
    "\n",
    "$$ \\beta_{n+1} = \\beta_n - \\eta \\frac{\\partial \\mathcal{L}_2}{\\partial \\beta}$$"
   ]
  },
  {
   "cell_type": "code",
   "execution_count": 17,
   "metadata": {},
   "outputs": [
    {
     "data": {
      "text/plain": [
       "[<matplotlib.lines.Line2D at 0x7f01495319b0>]"
      ]
     },
     "execution_count": 17,
     "metadata": {},
     "output_type": "execute_result"
    },
    {
     "data": {
      "image/png": "[encoded data removed]",
      "text/plain": [
       "<matplotlib.figure.Figure at 0x7f0149531b00>"
      ]
     },
     "metadata": {},
     "output_type": "display_data"
    }
   ],
   "source": [
    "def gradient_descent(loss, parameters, beta, eta=0.015, N = 100):\n",
    "    gradient = tf.gradients(loss, parameters)\n",
    "    losses = []\n",
    "    betas = []\n",
    "    for n in range(N):\n",
    "        l, g = session.run([loss, gradient], feed_dict={parameters: beta})\n",
    "        losses.append(l)\n",
    "        betas.append(beta)\n",
    "        beta = beta - eta * g[0]\n",
    "    return np.array(losses).flatten(), betas\n",
    "\n",
    "losses, betas = gradient_descent(L2_symbol, β_symbol, np.array([[2.0]]))\n",
    "plt.plot(β[0], L2)\n",
    "plt.plot(np.array(betas).flatten(), losses)"
   ]
  },
  {
   "cell_type": "markdown",
   "metadata": {
    "slideshow": {
     "slide_type": "subslide"
    }
   },
   "source": [
    "## Linear Regression with Least Square in N-Dimension\n",
    "\n"
   ]
  },
  {
   "cell_type": "code",
   "execution_count": 44,
   "metadata": {},
   "outputs": [
    {
     "name": "stdout",
     "output_type": "stream",
     "text": [
      "(442, 10) (442,)\n",
      "(442, 11) (442, 1)\n"
     ]
    }
   ],
   "source": [
    "import sklearn.datasets\n",
    "X, y = sklearn.datasets.load_diabetes(True)\n",
    "print(X.shape, y.shape)\n",
    "# Add bias\n",
    "X = np.c_[X, np.ones(442)]\n",
    "y = y.reshape((442,1))\n",
    "print(X.shape, y.shape)"
   ]
  },
  {
   "cell_type": "code",
   "execution_count": 45,
   "metadata": {},
   "outputs": [
    {
     "data": {
      "text/plain": [
       "[<matplotlib.lines.Line2D at 0x7f013ab67ba8>]"
      ]
     },
     "execution_count": 45,
     "metadata": {},
     "output_type": "execute_result"
    },
    {
     "data": {
      "image/png": "[encoded data removed]",
      "text/plain": [
       "<matplotlib.figure.Figure at 0x7f013abe6f60>"
      ]
     },
     "metadata": {},
     "output_type": "display_data"
    }
   ],
   "source": [
    "β_symbol = tf.placeholder(dtype=tf.float64, shape=[11, 1], name='beta')\n",
    "X_symbol = tf.constant(X, name='X')\n",
    "y_symbol = tf.constant(y, name='y')\n",
    "\n",
    "deviation_symbol = X_symbol @ β_symbol - y_symbol\n",
    "L2_symbol = tf.reduce_mean(deviation_symbol**2)\n",
    "\n",
    "losses, betas = gradient_descent(L2_symbol, β_symbol, np.ones(11).reshape(11, 1).astype(float), N = 200)    \n",
    "plt.plot(np.arange(200), losses)"
   ]
  },
  {
   "cell_type": "markdown",
   "metadata": {},
   "source": [
    "## Tensorflow Variables and Optimizers\n",
    "\n",
    "Of course tensorflow has already predefined optimizers (based on gradient descent), which are much more sophisticated."
   ]
  },
  {
   "cell_type": "code",
   "execution_count": 52,
   "metadata": {},
   "outputs": [],
   "source": [
    "def train(optimizer, loss, N = 200):\n",
    "    init = tf.global_variables_initializer()\n",
    "    session.run(init)\n",
    "    losses = []\n",
    "    for n in range(N):\n",
    "        _, l = session.run([optimizer, loss])\n",
    "        losses.append(l)\n",
    "    return losses"
   ]
  },
  {
   "cell_type": "code",
   "execution_count": 53,
   "metadata": {},
   "outputs": [
    {
     "data": {
      "text/plain": [
       "[<matplotlib.lines.Line2D at 0x7f013a6a9630>]"
      ]
     },
     "execution_count": 53,
     "metadata": {},
     "output_type": "execute_result"
    },
    {
     "data": {
      "image/png": "[encoded data removed]",
      "text/plain": [
       "<matplotlib.figure.Figure at 0x7f013b2f7710>"
      ]
     },
     "metadata": {},
     "output_type": "display_data"
    }
   ],
   "source": [
    "β_symbol = tf.Variable(np.ones(11).reshape((11,1)), name=\"beta\")\n",
    "loss = tf.losses.mean_squared_error(y_symbol, X_symbol @ β_symbol)\n",
    "optimizer = tf.train.GradientDescentOptimizer(0.015).minimize(loss)\n",
    "\n",
    "losses = train(optimizer, loss)\n",
    "plt.plot(np.arange(200), losses)"
   ]
  },
  {
   "cell_type": "code",
   "execution_count": 75,
   "metadata": {},
   "outputs": [
    {
     "data": {
      "text/plain": [
       "<matplotlib.legend.Legend at 0x7f0138a027b8>"
      ]
     },
     "execution_count": 75,
     "metadata": {},
     "output_type": "execute_result"
    },
    {
     "data": {
      "image/png": "[encoded data removed]",
      "text/plain": [
       "<matplotlib.figure.Figure at 0x7f0138aeaba8>"
      ]
     },
     "metadata": {},
     "output_type": "display_data"
    }
   ],
   "source": [
    "optimizer = tf.train.GradientDescentOptimizer(0.015).minimize(loss)\n",
    "losses = train(optimizer, loss)\n",
    "plt.plot(np.arange(200), losses, label='Gradient Descent')\n",
    "\n",
    "optimizer = tf.train.AdamOptimizer(10, 0.01).minimize(loss)\n",
    "losses = train(optimizer, loss)\n",
    "plt.plot(np.arange(200), losses, label='Adam')\n",
    "plt.legend()"
   ]
  },
  {
   "cell_type": "markdown",
   "metadata": {
    "slideshow": {
     "slide_type": "subslide"
    }
   },
   "source": [
    "## Framework Overview\n",
    "\n",
    "<img src=\"https://www.tensorflow.org/images/tensorflow_programming_environment.png\">"
   ]
  },
  {
   "cell_type": "markdown",
   "metadata": {},
   "source": [
    "## Layers"
   ]
  },
  {
   "cell_type": "code",
   "execution_count": 83,
   "metadata": {},
   "outputs": [],
   "source": [
    "dataset = tf.data.Dataset.from_tensor_slices(sklearn.datasets.load_diabetes(True))"
   ]
  },
  {
   "cell_type": "code",
   "execution_count": 84,
   "metadata": {},
   "outputs": [
    {
     "data": {
      "text/plain": [
       "<TensorSliceDataset shapes: ((10,), ()), types: (tf.float64, tf.float64)>"
      ]
     },
     "execution_count": 84,
     "metadata": {},
     "output_type": "execute_result"
    }
   ],
   "source": [
    "dataset"
   ]
  },
  {
   "cell_type": "code",
   "execution_count": 92,
   "metadata": {},
   "outputs": [
    {
     "ename": "ValueError",
     "evalue": "too many values to unpack (expected 2)",
     "output_type": "error",
     "traceback": [
      "\u001b[0;31m---------------------------------------------------------------------------\u001b[0m",
      "\u001b[0;31mValueError\u001b[0m                                Traceback (most recent call last)",
      "\u001b[0;32m<ipython-input-92-d1a44371045c>\u001b[0m in \u001b[0;36m<module>\u001b[0;34m()\u001b[0m\n\u001b[1;32m      2\u001b[0m \u001b[0;34m\u001b[0m\u001b[0m\n\u001b[1;32m      3\u001b[0m \u001b[0mX\u001b[0m\u001b[0;34m,\u001b[0m \u001b[0my\u001b[0m \u001b[0;34m=\u001b[0m \u001b[0msklearn\u001b[0m\u001b[0;34m.\u001b[0m\u001b[0mdatasets\u001b[0m\u001b[0;34m.\u001b[0m\u001b[0mload_diabetes\u001b[0m\u001b[0;34m(\u001b[0m\u001b[0;32mTrue\u001b[0m\u001b[0;34m)\u001b[0m\u001b[0;34m\u001b[0m\u001b[0m\n\u001b[0;32m----> 4\u001b[0;31m \u001b[0mX_train\u001b[0m\u001b[0;34m,\u001b[0m \u001b[0my_train\u001b[0m \u001b[0;34m=\u001b[0m \u001b[0mX\u001b[0m\u001b[0;34m\u001b[0m\u001b[0m\n\u001b[0m\u001b[1;32m      5\u001b[0m \u001b[0;34m\u001b[0m\u001b[0m\n\u001b[1;32m      6\u001b[0m \u001b[0mdataset\u001b[0m \u001b[0;34m=\u001b[0m \u001b[0mtf\u001b[0m\u001b[0;34m.\u001b[0m\u001b[0mdata\u001b[0m\u001b[0;34m.\u001b[0m\u001b[0mDataset\u001b[0m\u001b[0;34m.\u001b[0m\u001b[0mfrom_tensor_slices\u001b[0m\u001b[0;34m(\u001b[0m\u001b[0;34m(\u001b[0m\u001b[0msklearn\u001b[0m\u001b[0;34m.\u001b[0m\u001b[0mdatasets\u001b[0m\u001b[0;34m.\u001b[0m\u001b[0mload_diabetes\u001b[0m\u001b[0;34m(\u001b[0m\u001b[0;32mTrue\u001b[0m\u001b[0;34m)\u001b[0m\u001b[0;34m)\u001b[0m\u001b[0;34m)\u001b[0m\u001b[0;34m\u001b[0m\u001b[0m\n",
      "\u001b[0;31mValueError\u001b[0m: too many values to unpack (expected 2)"
     ]
    }
   ],
   "source": [
    "# Big problem, with this setup one cannot run the trained network on the complete dataset,\n",
    "# or some test data, without defining the whole network again!\n",
    "\n",
    "X, y = sklearn.datasets.load_diabetes(True)\n",
    "X_train, y_train = X\n",
    "\n",
    "dataset = tf.data.Dataset.from_tensor_slices((sklearn.datasets.load_diabetes(True)))\n",
    "dataset = dataset.batch(10).repeat(100)\n",
    "iterator = dataset.make_one_shot_iterator()\n",
    "X, y = iterator.get_next()\n",
    "\n",
    "hidden_layer1 = tf.layers.dense(X, 10, activation=tf.sigmoid)\n",
    "hidden_layer2 = tf.layers.dense(hidden_layer1, 10, activation=tf.sigmoid)\n",
    "output = tf.layers.dense(hidden_layer2, 1, activation=None)\n",
    "prediction = tf.reshape(output, (-1,))\n",
    "\n",
    "loss = tf.losses.mean_squared_error(y, prediction)\n",
    "optimizer = tf.train.AdamOptimizer(10, 0.01).minimize(loss)\n",
    "\n",
    "init = tf.global_variables_initializer()\n",
    "session.run(init)\n",
    "\n",
    "while True:\n",
    "    try:\n",
    "        value = session.run(optimizer)\n",
    "    except tf.errors.OutOfRangeError:\n",
    "        break\n",
    "\n",
    "loss = session.run(loss)\n",
    "print(loss)"
   ]
  },
  {
   "cell_type": "code",
   "execution_count": null,
   "metadata": {
    "collapsed": true
   },
   "outputs": [],
   "source": []
  }
 ],
 "metadata": {
  "celltoolbar": "Slideshow",
  "kernelspec": {
   "display_name": "Python 3",
   "language": "python",
   "name": "python3"
  },
  "language_info": {
   "codemirror_mode": {
    "name": "ipython",
    "version": 3
   },
   "file_extension": ".py",
   "mimetype": "text/x-python",
   "name": "python",
   "nbconvert_exporter": "python",
   "pygments_lexer": "ipython3",
   "version": "3.5.3"
  }
 },
 "nbformat": 4,
 "nbformat_minor": 2
}
